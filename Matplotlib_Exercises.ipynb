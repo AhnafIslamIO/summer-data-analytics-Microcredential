{
  "cells": [
    {
      "cell_type": "markdown",
      "metadata": {
        "id": "view-in-github",
        "colab_type": "text"
      },
      "source": [
        "<a href=\"https://colab.research.google.com/github/AhnafIslamIO/summer-data-analytics-Microcredential/blob/main/Matplotlib_Exercises.ipynb\" target=\"_parent\"><img src=\"https://colab.research.google.com/assets/colab-badge.svg\" alt=\"Open In Colab\"/></a>"
      ]
    },
    {
      "cell_type": "markdown",
      "metadata": {
        "id": "1OIsi8k6s0pp"
      },
      "source": [
        "# Matplotlib Exercises \n",
        "\n",
        "MatPlotLib Review! \n",
        "\n",
        "Take your time, Matplotlib can be tricky to understand at first. \n",
        "\n",
        "These should be relatively simple plots, however they can be hard if this is your first time with matplotlib, please feel free to reference the site documentation as you go along.\n",
        "\n",
        "# Exercises\n",
        "\n",
        "## Data"
      ]
    },
    {
      "cell_type": "code",
      "execution_count": 12,
      "metadata": {
        "id": "KjDN4x4cs0ps"
      },
      "outputs": [],
      "source": [
        "import numpy as np\n",
        "x = np.arange(0,100)\n",
        "y = x*2\n",
        "z = x**2"
      ]
    },
    {
      "cell_type": "markdown",
      "metadata": {
        "id": "fSvLepVws0pt"
      },
      "source": [
        "**Import matplotlib.pyplot as plt and set %matplotlib inline if you are using the jupyter notebook. What command do you use if you aren't using the jupyter notebook?**"
      ]
    },
    {
      "cell_type": "code",
      "execution_count": 13,
      "metadata": {
        "collapsed": true,
        "jupyter": {
          "outputs_hidden": true
        },
        "id": "WQDFmazjs0pu"
      },
      "outputs": [],
      "source": [
        "import matplotlib.pyplot as plt\n",
        "%matplotlib inline\n",
        "import pandas as pd\n"
      ]
    },
    {
      "cell_type": "markdown",
      "metadata": {
        "id": "0P2yM7X4tmo4"
      },
      "source": [
        "**Import matplotlib.pyplot as plt and set %matplotlib inline if you are using the jupyter notebook. What command do you use if you aren't using the jupyter notebook?**"
      ]
    },
    {
      "cell_type": "markdown",
      "metadata": {
        "id": "BZXHKRqCs0pv"
      },
      "source": [
        "## Exercise 1\n",
        "\n",
        "* **Create a figure object called fig using plt.figure() **\n",
        "* **Use add_axes to add an axis to the figure canvas at [0,0,1,1]. Call this new axis ax. **\n",
        "* **Plot (x,y) on that axes and set the labels and titles to match the plot below: **"
      ]
    },
    {
      "cell_type": "code",
      "execution_count": null,
      "metadata": {
        "jupyter": {
          "outputs_hidden": false
        },
        "id": "eMaz2Rwns0pv",
        "outputId": "0aa14e9f-7a2b-4667-b275-54b5916454f8"
      },
      "outputs": [
        {
          "data": {
            "text/plain": [
              "<matplotlib.text.Text at 0x111534c50>"
            ]
          },
          "execution_count": 4,
          "metadata": {},
          "output_type": "execute_result"
        },
        {
          "data": {
            "image/png": "[encoded data removed]",
            "text/plain": [
              "<matplotlib.figure.Figure at 0x10f0b1710>"
            ]
          },
          "metadata": {},
          "output_type": "display_data"
        }
      ],
      "source": [
        ""
      ]
    },
    {
      "cell_type": "code",
      "source": [
        "fig = plt.figure()\n",
        "ax = fig.add_axes([0,0,1,1])\n",
        "ax.plot(x,y,'b')\n",
        "ax.set_xlabel('x')\n",
        "ax.set_ylabel('y')\n",
        "ax.set_title('title')\n"
      ],
      "metadata": {
        "colab": {
          "base_uri": "https://localhost:8080/",
          "height": 383
        },
        "id": "TdK7OlFuudV_",
        "outputId": "2fc58e26-bcab-461a-e774-45095d607431"
      },
      "execution_count": 14,
      "outputs": [
        {
          "output_type": "execute_result",
          "data": {
            "text/plain": [
              "Text(0.5, 1.0, 'title')"
            ]
          },
          "metadata": {},
          "execution_count": 14
        },
        {
          "output_type": "display_data",
          "data": {
            "text/plain": [
              "<Figure size 432x288 with 1 Axes>"
            ],
            "image/png": "[encoded data removed]"
          },
          "metadata": {
            "needs_background": "light"
          }
        }
      ]
    },
    {
      "cell_type": "markdown",
      "metadata": {
        "id": "WsT4C27Cs0pw"
      },
      "source": [
        "## Exercise 2\n",
        "**Create a figure object and put two axes on it, ax1 and ax2. Located at [0,0,1,1] and [0.2,0.5,.2,.2] respectively.**"
      ]
    },
    {
      "cell_type": "code",
      "execution_count": 16,
      "metadata": {
        "jupyter": {
          "outputs_hidden": false
        },
        "colab": {
          "base_uri": "https://localhost:8080/",
          "height": 353
        },
        "id": "k8HjKy4Cs0pw",
        "outputId": "276f7b4e-aff8-4e97-9f67-4381eaf76fcb"
      },
      "outputs": [
        {
          "output_type": "execute_result",
          "data": {
            "text/plain": [
              "[]"
            ]
          },
          "metadata": {},
          "execution_count": 16
        },
        {
          "output_type": "display_data",
          "data": {
            "text/plain": [
              "<Figure size 432x288 with 2 Axes>"
            ],
            "image/png": "[encoded data removed]"
          },
          "metadata": {
            "needs_background": "light"
          }
        }
      ],
      "source": [
        "fig = plt.figure()\n",
        "ax1 = fig.add_axes([0,0,1,1])\n",
        "ax2 = fig.add_axes([0.2,0.5,.2,.2])\n",
        "ax1.plot()\n",
        "ax2.plot()"
      ]
    },
    {
      "cell_type": "markdown",
      "metadata": {
        "id": "8lbiA9CRs0px"
      },
      "source": [
        "**Now plot (x,y) on both axes. And call your figure object to show it.**"
      ]
    },
    {
      "cell_type": "code",
      "execution_count": 17,
      "metadata": {
        "jupyter": {
          "outputs_hidden": false
        },
        "colab": {
          "base_uri": "https://localhost:8080/",
          "height": 367
        },
        "id": "eSMViIbSs0px",
        "outputId": "ac1ae193-0e55-443d-9a3f-6049955d9a58"
      },
      "outputs": [
        {
          "output_type": "execute_result",
          "data": {
            "text/plain": [
              "Text(0, 0.5, 'y labelaxes2')"
            ]
          },
          "metadata": {},
          "execution_count": 17
        },
        {
          "output_type": "display_data",
          "data": {
            "text/plain": [
              "<Figure size 432x288 with 2 Axes>"
            ],
            "image/png": "[encoded data removed]"
          },
          "metadata": {
            "needs_background": "light"
          }
        }
      ],
      "source": [
        "fig = plt.figure()\n",
        "ax1 = fig.add_axes([0, 0, 1, 1])\n",
        "ax2 = fig.add_axes([0.2, 0.5, 0.2, 0.2])\n",
        "ax1.plot(x, y, 'r')\n",
        "ax2.plot(x, y, 'r')\n",
        "ax1.set_xlabel('x label axes2')\n",
        "ax1.set_ylabel('y labelaxes2')\n",
        "ax2.set_xlabel('x label axes2')\n",
        "ax2.set_ylabel('y labelaxes2')"
      ]
    },
    {
      "cell_type": "markdown",
      "metadata": {
        "id": "SlQhKLeas0py"
      },
      "source": [
        "## Exercise 3\n",
        "\n",
        "**Create the plot below by adding two axes to a figure object at [0,0,1,1] and [0.2,0.5,.4,.4]**"
      ]
    },
    {
      "cell_type": "code",
      "execution_count": 18,
      "metadata": {
        "jupyter": {
          "outputs_hidden": false
        },
        "colab": {
          "base_uri": "https://localhost:8080/",
          "height": 353
        },
        "id": "eroG5Ma1s0py",
        "outputId": "ab615fb3-6e87-4e42-adfb-f6aec41df82a"
      },
      "outputs": [
        {
          "output_type": "execute_result",
          "data": {
            "text/plain": [
              "[]"
            ]
          },
          "metadata": {},
          "execution_count": 18
        },
        {
          "output_type": "display_data",
          "data": {
            "text/plain": [
              "<Figure size 432x288 with 2 Axes>"
            ],
            "image/png": "[encoded data removed]"
          },
          "metadata": {
            "needs_background": "light"
          }
        }
      ],
      "source": [
        "fig = plt.figure()\n",
        "ax1 = fig.add_axes([0,0,1,1])\n",
        "ax2 = fig.add_axes([0.2,0.5,.4,.4])\n",
        "ax1.plot()\n",
        "ax2.plot()"
      ]
    },
    {
      "cell_type": "markdown",
      "metadata": {
        "id": "rXjlDHnqs0p0"
      },
      "source": [
        "**Now use x,y, and z arrays to recreate the plot below. Notice the xlimits and y limits on the inserted plot:**"
      ]
    },
    {
      "cell_type": "code",
      "execution_count": 20,
      "metadata": {
        "jupyter": {
          "outputs_hidden": false
        },
        "colab": {
          "base_uri": "https://localhost:8080/",
          "height": 353
        },
        "id": "Su6tnoYds0p0",
        "outputId": "7facb03e-1a5e-4d0a-ae6b-6b79e2dcdbaa"
      },
      "outputs": [
        {
          "output_type": "execute_result",
          "data": {
            "text/plain": [
              "[<matplotlib.lines.Line2D at 0x7fa3c9e67710>]"
            ]
          },
          "metadata": {},
          "execution_count": 20
        },
        {
          "output_type": "display_data",
          "data": {
            "text/plain": [
              "<Figure size 432x288 with 2 Axes>"
            ],
            "image/png": "[encoded data removed]"
          },
          "metadata": {
            "needs_background": "light"
          }
        }
      ],
      "source": [
        "fig = plt.figure()\n",
        "ax1 = fig.add_axes([0,0,1,1])\n",
        "ax2 = fig.add_axes([0.2,0.5,.4,.4])\n",
        "ax1.plot(x , z, \"b\")\n",
        "ax2.plot(x, y, \"b\")"
      ]
    },
    {
      "cell_type": "markdown",
      "metadata": {
        "id": "V8JGh-Sos0p1"
      },
      "source": [
        "## Exercise 4\n",
        "\n",
        "**Use plt.subplots(nrows=1, ncols=2) to create the plot below.**"
      ]
    },
    {
      "cell_type": "code",
      "execution_count": 21,
      "metadata": {
        "jupyter": {
          "outputs_hidden": false
        },
        "colab": {
          "base_uri": "https://localhost:8080/",
          "height": 269
        },
        "id": "O-eNu5EEs0p1",
        "outputId": "598a4b84-0971-46fc-bab4-c437ffeaa9d8"
      },
      "outputs": [
        {
          "output_type": "display_data",
          "data": {
            "text/plain": [
              "<Figure size 432x288 with 2 Axes>"
            ],
            "image/png": "[encoded data removed]"
          },
          "metadata": {
            "needs_background": "light"
          }
        }
      ],
      "source": [
        "fig, axes = plt.subplots(nrows = 1, ncols = 2)\n"
      ]
    },
    {
      "cell_type": "markdown",
      "metadata": {
        "id": "L9gXk35Gs0p1"
      },
      "source": [
        "**Now plot (x,y) and (x,z) on the axes. Play around with the linewidth and style**"
      ]
    },
    {
      "cell_type": "code",
      "execution_count": 22,
      "metadata": {
        "jupyter": {
          "outputs_hidden": false
        },
        "colab": {
          "base_uri": "https://localhost:8080/",
          "height": 295
        },
        "id": "VCDjt7Yls0p2",
        "outputId": "1ca65fba-2e76-408f-cd04-73d83d75642d"
      },
      "outputs": [
        {
          "output_type": "display_data",
          "data": {
            "text/plain": [
              "<Figure size 432x288 with 2 Axes>"
            ],
            "image/png": "[encoded data removed]"
          },
          "metadata": {
            "needs_background": "light"
          }
        }
      ],
      "source": [
        "fig, axes = plt.subplots(nrows = 1, ncols = 2)\n",
        "for ax in axes:\n",
        "  ax.plot(x, y, 'b--')\n",
        "  ax.set_xlabel('x')\n",
        "  ax.set_ylabel('y')\n",
        "  ax.set_title('title')\n"
      ]
    },
    {
      "cell_type": "markdown",
      "metadata": {
        "id": "bUhyECabs0p2"
      },
      "source": [
        "*See if you can resize the plot by adding the figsize() argument in plt.subplots() are copying and pasting your previous code.*"
      ]
    },
    {
      "cell_type": "code",
      "execution_count": 23,
      "metadata": {
        "jupyter": {
          "outputs_hidden": false
        },
        "id": "3PCQW_OBs0p2"
      },
      "outputs": [],
      "source": [
        "for ax in axes:\n",
        "  ax.plot(x, y, 'b--')\n",
        "  ax.plot(x,z, 'r')\n"
      ]
    },
    {
      "cell_type": "markdown",
      "metadata": {
        "id": "MweJAGEms0p2"
      },
      "source": [
        "# Cheers!"
      ]
    },
    {
      "cell_type": "code",
      "execution_count": null,
      "metadata": {
        "id": "ztctgX3ts0p3"
      },
      "outputs": [],
      "source": [
        ""
      ]
    }
  ],
  "metadata": {
    "kernelspec": {
      "display_name": "Python 3",
      "language": "python",
      "name": "python3"
    },
    "language_info": {
      "codemirror_mode": {
        "name": "ipython",
        "version": 3
      },
      "file_extension": ".py",
      "mimetype": "text/x-python",
      "name": "python",
      "nbconvert_exporter": "python",
      "pygments_lexer": "ipython3",
      "version": "3.7.3"
    },
    "colab": {
      "name": "Matplotlib Exercises.ipynb",
      "provenance": [],
      "include_colab_link": true
    }
  },
  "nbformat": 4,
  "nbformat_minor": 0
}