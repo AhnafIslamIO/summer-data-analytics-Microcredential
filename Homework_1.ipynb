{
  "nbformat": 4,
  "nbformat_minor": 0,
  "metadata": {
    "colab": {
      "name": "Homework 1.ipynb",
      "provenance": [],
      "collapsed_sections": [],
      "include_colab_link": true
    },
    "kernelspec": {
      "name": "python3",
      "display_name": "Python 3"
    },
    "language_info": {
      "name": "python"
    }
  },
  "cells": [
    {
      "cell_type": "markdown",
      "metadata": {
        "id": "view-in-github",
        "colab_type": "text"
      },
      "source": [
        "<a href=\"https://colab.research.google.com/github/AhnafIslamIO/summer-data-analytics-Microcredential/blob/main/Homework_1.ipynb\" target=\"_parent\"><img src=\"https://colab.research.google.com/assets/colab-badge.svg\" alt=\"Open In Colab\"/></a>"
      ]
    },
    {
      "cell_type": "markdown",
      "source": [
        "# Answer all the questions!"
      ],
      "metadata": {
        "id": "FkJsXd8D06Rp"
      }
    },
    {
      "cell_type": "markdown",
      "source": [
        "##Write a Python program to get the volume of a sphere with radius 6"
      ],
      "metadata": {
        "id": "elOgKZR009ex"
      }
    },
    {
      "cell_type": "code",
      "source": [
        "pi=3.14\n",
        "radius=6.0\n",
        "volume=4.0/3.0*pi*(radius**3)\n",
        "print(\"volume of the sphere with radius 6 is :\",volume)"
      ],
      "metadata": {
        "id": "YbhKO6Cs09av",
        "colab": {
          "base_uri": "https://localhost:8080/"
        },
        "outputId": "e91757ca-9014-4abf-f20e-155d9a7f83c1"
      },
      "execution_count": 1,
      "outputs": [
        {
          "output_type": "stream",
          "name": "stdout",
          "text": [
            "volume of the sphere with radius 6 is : 904.3199999999999\n"
          ]
        }
      ]
    },
    {
      "cell_type": "code",
      "source": [
        "# printed the value of pi and radius\n",
        "# implemented the formula for volume\n",
        "# ran the cell to get the volume of sphere\n",
        "# used youtube as reference to learn how to solve\n"
      ],
      "metadata": {
        "id": "LKqzfmj1D-rO"
      },
      "execution_count": 3,
      "outputs": []
    },
    {
      "cell_type": "markdown",
      "source": [
        "##Write a Python program to find whether a given number (accept from the user) is even or odd"
      ],
      "metadata": {
        "id": "OuX7aazu09X1"
      }
    },
    {
      "cell_type": "code",
      "source": [
        "num = int(input(\"Enter a number: \"))\n",
        "if (num % 2) == 0:\n",
        "   print(\"{0} is Even\".format(num))\n",
        "else:\n",
        "   print(\"{0} is Odd\".format(num))"
      ],
      "metadata": {
        "id": "vcYhNNaU09Uz",
        "colab": {
          "base_uri": "https://localhost:8080/"
        },
        "outputId": "e92a119e-1fc5-47b9-eb02-b1057471f77c"
      },
      "execution_count": 30,
      "outputs": [
        {
          "output_type": "stream",
          "name": "stdout",
          "text": [
            "Enter a number: 80\n",
            "80 is Even\n"
          ]
        }
      ]
    },
    {
      "cell_type": "code",
      "source": [
        "# A number is even if division by 2 gives a remainder of 0. If the remainder is 1, it is an odd number.\n",
        "# used python pogram to check if number is odd or even\n",
        "# used youtube as reference to learn the solution"
      ],
      "metadata": {
        "id": "nvnFOPmDuzIi"
      },
      "execution_count": null,
      "outputs": []
    },
    {
      "cell_type": "markdown",
      "source": [
        "##Write a Python program to count the number 4 in a given list"
      ],
      "metadata": {
        "id": "NP5TZKqO09Rr"
      }
    },
    {
      "cell_type": "code",
      "source": [
        "def list_count_4(nums):\n",
        "  count = 0  \n",
        "  for num in nums:\n",
        "    if num == 4:\n",
        "      count = count + 1\n",
        "\n",
        "  return count\n",
        "\n",
        "print(list_count_4([1, 4, 6, 7, 4]))\n",
        "print(list_count_4([1, 4, 6, 4, 7, 4]))"
      ],
      "metadata": {
        "id": "oWZ3vTfW09Oh",
        "colab": {
          "base_uri": "https://localhost:8080/"
        },
        "outputId": "d07b0ef2-fb0d-4a74-f1e2-a08579771a23"
      },
      "execution_count": 20,
      "outputs": [
        {
          "output_type": "stream",
          "name": "stdout",
          "text": [
            "2\n",
            "3\n"
          ]
        }
      ]
    },
    {
      "cell_type": "code",
      "source": [
        "# created an array of numbers to use\n",
        "# primed pogram to count the number 4\n",
        "# used youtube as reference to learn the solution"
      ],
      "metadata": {
        "id": "dnRKH5zbrJIs"
      },
      "execution_count": null,
      "outputs": []
    },
    {
      "cell_type": "markdown",
      "source": [
        "##Write a Python program that will accept the base and height of a triangle and compute the area"
      ],
      "metadata": {
        "id": "IK0FvUoa1MJG"
      }
    },
    {
      "cell_type": "code",
      "source": [
        "base = float(input('Please Enter the Base of a Triangle: '))\n",
        "height = float(input('Please Enter the Height of a Triangle: '))\n",
        "\n",
        "# calculate the area\n",
        "area = (base * height) / 2\n",
        "\n",
        "print(\"The Area of a Triangle using\", base, \"and\", height, \" = \", area)"
      ],
      "metadata": {
        "id": "G02dv4rh1MFs",
        "colab": {
          "base_uri": "https://localhost:8080/"
        },
        "outputId": "ac475fc1-c2cc-40b6-eab7-adb107fc7873"
      },
      "execution_count": 32,
      "outputs": [
        {
          "output_type": "stream",
          "name": "stdout",
          "text": [
            "Please Enter the Base of a Triangle: 20\n",
            "Please Enter the Height of a Triangle: 25\n",
            "The Area of a Triangle using 20.0 and 25.0  =  250.0\n"
          ]
        }
      ]
    },
    {
      "cell_type": "code",
      "source": [
        "# input base and height\n",
        "# input the formula for area\n",
        "# used youtube as reference to learn to solve"
      ],
      "metadata": {
        "id": "ZzXq6QLE4zrb"
      },
      "execution_count": null,
      "outputs": []
    },
    {
      "cell_type": "markdown",
      "source": [
        "##Write a Python program to convert the distance (in feet) to inches, yards, and miles."
      ],
      "metadata": {
        "id": "sOkeycZk1L5-"
      }
    },
    {
      "cell_type": "code",
      "source": [
        "d_ft = int(input(\"Input distance in feet: \"))\n",
        "d_inches = d_ft * 12\n",
        "d_yards = d_ft / 3.0\n",
        "d_miles = d_ft / 5280.0\n",
        "\n",
        "print(\"The distance in inches is %i inches.\" % d_inches)\n",
        "print(\"The distance in yards is %.2f yards.\" % d_yards)\n",
        "print(\"The distance in miles is %.2f miles.\" % d_miles)"
      ],
      "metadata": {
        "id": "YtW-ZxqB1L2c",
        "colab": {
          "base_uri": "https://localhost:8080/"
        },
        "outputId": "2e661b06-960c-4b75-e715-48beb1d2d0b9"
      },
      "execution_count": 33,
      "outputs": [
        {
          "output_type": "stream",
          "name": "stdout",
          "text": [
            "Input distance in feet: 20\n",
            "The distance in inches is 240 inches.\n",
            "The distance in yards is 6.67 yards.\n",
            "The distance in miles is 0.00 miles.\n"
          ]
        }
      ]
    },
    {
      "cell_type": "code",
      "source": [
        "# input the conversion for inches, yards and miles\n",
        "# input the distance\n",
        "# used youtube as reference to solve"
      ],
      "metadata": {
        "id": "fmeq1-AR4nsw"
      },
      "execution_count": null,
      "outputs": []
    }
  ]
}