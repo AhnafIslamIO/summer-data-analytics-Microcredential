{
  "nbformat": 4,
  "nbformat_minor": 0,
  "metadata": {
    "colab": {
      "name": "HousingFinalproject.ipynb",
      "provenance": [],
      "collapsed_sections": [
        "K8v5Q6ohC93h",
        "A9O6an2hMLGf",
        "AmfBZZilF9Zd",
        "0IZdO9KHLWkY",
        "y851vi1nNNMv",
        "eRhIkoDiqFzK",
        "NQDXX0qaqlY_",
        "TxG58lfWq9xm",
        "YNrqon9M7QFv"
      ],
      "include_colab_link": true
    },
    "kernelspec": {
      "name": "python3",
      "display_name": "Python 3"
    },
    "language_info": {
      "name": "python"
    }
  },
  "cells": [
    {
      "cell_type": "markdown",
      "metadata": {
        "id": "view-in-github",
        "colab_type": "text"
      },
      "source": [
        "<a href=\"https://colab.research.google.com/github/AhnafIslamIO/summer-data-analytics-Microcredential/blob/main/HousingFinalproject.ipynb\" target=\"_parent\"><img src=\"https://colab.research.google.com/assets/colab-badge.svg\" alt=\"Open In Colab\"/></a>"
      ]
    },
    {
      "cell_type": "code",
      "execution_count": null,
      "metadata": {
        "id": "YabGL11rV7pG"
      },
      "outputs": [],
      "source": [
        "# Teammates: Jaden Dodoo-Tawiah, Sefat Monzor,  Ahnaf Islam, Jordan Angus.  "
      ]
    },
    {
      "cell_type": "code",
      "source": [
        "# Cited Resources \n",
        "# https://www.youtube.com/watch?v=qxpKCBV60U4\n",
        "# https://www.youtube.com/watch?v=OY4eQrekQvs\n",
        "# https://www.youtube.com/watch?v=xANwNonI9aw\n",
        "#https://www.youtube.com/watch?v=9xcY6YDu-Ks\n",
        "# https://www.youtube.com/watch?v=OS2m0f2gVJ0\n"
      ],
      "metadata": {
        "id": "GihAqaVqqMjw"
      },
      "execution_count": null,
      "outputs": []
    },
    {
      "cell_type": "markdown",
      "source": [
        "# Task 1: Identify the problem:\n"
      ],
      "metadata": {
        "id": "K8v5Q6ohC93h"
      }
    },
    {
      "cell_type": "markdown",
      "source": [
        "Contributors to this section: Jordan Angus and Jaden Dodoo-Tawiah \n",
        "\n",
        "In this project, we are going to be analyzing different factors that impacts the pricing and value of housing within different areas such as the crime rate\n",
        "Distance from that particular place to the city, accessibility to the highway, and other attributes in our data that could help us develop our machine learning models. Eventually, we will be cleaning and wraggling our data so that this way,we can improve the overall productivity and decision making for people that decide to review our data set in the future.  \n",
        " \n",
        "Lists of objects that we will be implementing into our machine learning models.\n",
        "\n",
        "#####crime_rate\n",
        "#####big_lots_percent\n",
        "#####office_percent\n",
        "#####charles_river\n",
        "#####nitrous\n",
        "#####avg_num_rooms\n",
        "#####pre_1940\n",
        "#####distance_to_city\n",
        "#####highway_access\n",
        "#####tax_rate\n",
        "#####student_teacher_ratio\n",
        "#####median_price\n"
      ],
      "metadata": {
        "id": "nl8KoDOOL9Lx"
      }
    },
    {
      "cell_type": "markdown",
      "source": [
        "### (Jordan)The purpose of this analysis follows:"
      ],
      "metadata": {
        "id": "A9O6an2hMLGf"
      }
    },
    {
      "cell_type": "markdown",
      "source": [
        "Linear Regression - Find the most accurate predictor(s) of house prices"
      ],
      "metadata": {
        "id": "m99nRJ-GMN5A"
      }
    },
    {
      "cell_type": "markdown",
      "source": [
        "#Task 2: Load the libraries \n",
        "\n",
        "\n",
        "\n"
      ],
      "metadata": {
        "id": "AmfBZZilF9Zd"
      }
    },
    {
      "cell_type": "code",
      "source": [
        "# Contributer to this section: Ahnaf Islam\n",
        "import pandas as pd\n",
        "import numpy as np\n",
        "import seaborn as sns\n",
        "import matplotlib.pyplot as plt\n",
        "from matplotlib import style\n",
        "sns.set()\n",
        "%matplotlib inline\n",
        "import plotly\n",
        "import cufflinks as cf\n",
        "cf.go_offline()\n",
        "from sklearn.model_selection import train_test_split\n",
        "from sklearn.linear_model import LogisticRegression\n",
        "from sklearn.metrics import classification_report\n",
        "from sklearn.preprocessing import StandardScaler\n",
        "from sklearn.metrics import accuracy_score\n"
      ],
      "metadata": {
        "id": "RyKq0kVlWbl0",
        "colab": {
          "base_uri": "https://localhost:8080/",
          "height": 17
        },
        "outputId": "ccc73079-90b9-4aaa-9a62-2dadcb705ffe"
      },
      "execution_count": 80,
      "outputs": [
        {
          "output_type": "display_data",
          "data": {
            "text/html": [
              "        <script type=\"text/javascript\">\n",
              "        window.PlotlyConfig = {MathJaxConfig: 'local'};\n",
              "        if (window.MathJax) {MathJax.Hub.Config({SVG: {font: \"STIX-Web\"}});}\n",
              "        if (typeof require !== 'undefined') {\n",
              "        require.undef(\"plotly\");\n",
              "        requirejs.config({\n",
              "            paths: {\n",
              "                'plotly': ['https://cdn.plot.ly/plotly-2.8.3.min']\n",
              "            }\n",
              "        });\n",
              "        require(['plotly'], function(Plotly) {\n",
              "            window._Plotly = Plotly;\n",
              "        });\n",
              "        }\n",
              "        </script>\n",
              "        "
            ]
          },
          "metadata": {}
        }
      ]
    },
    {
      "cell_type": "markdown",
      "source": [
        "#Task 3: Load the data Contributor: Jaden Dodoo-Tawiah"
      ],
      "metadata": {
        "id": "U5m9Mu19VVe9"
      }
    },
    {
      "cell_type": "code",
      "source": [
        "df = pd.read_csv('https://raw.githubusercontent.com/JadenD5321/Machine-Learning-Data/main/housing_prices.csv')"
      ],
      "metadata": {
        "id": "fYTRNQGiWbxE"
      },
      "execution_count": 81,
      "outputs": []
    },
    {
      "cell_type": "markdown",
      "source": [
        "# Task 4: EDA (Exploratory Data Analysis)"
      ],
      "metadata": {
        "id": "w5tQiYBgOuYg"
      }
    },
    {
      "cell_type": "code",
      "source": [
        "# contributor to this section: Jaden Dodoo-Tawiah\n",
        "# We check our CSV file and see which features are not nessecary to use once we have found accurate information about the datasets\n",
        "df"
      ],
      "metadata": {
        "id": "xJYU-5hFIIbm",
        "colab": {
          "base_uri": "https://localhost:8080/",
          "height": 424
        },
        "outputId": "712d725a-642d-43a3-8e5b-83e074dce749"
      },
      "execution_count": 82,
      "outputs": [
        {
          "output_type": "execute_result",
          "data": {
            "text/plain": [
              "     crime_rate  big_lots_percent  office_percent  charles_river  nitrous  \\\n",
              "0       0.00632              18.0            2.31              0    0.538   \n",
              "1       0.02731               0.0            7.07              0    0.469   \n",
              "2       0.02729               0.0            7.07              0    0.469   \n",
              "3       0.03237               0.0            2.18              0    0.458   \n",
              "4       0.06905               0.0            2.18              0    0.458   \n",
              "..          ...               ...             ...            ...      ...   \n",
              "501     0.06263               0.0           11.93              0    0.573   \n",
              "502     0.04527               0.0           11.93              0    0.573   \n",
              "503     0.06076               0.0           11.93              0    0.573   \n",
              "504     0.10959               0.0           11.93              0    0.573   \n",
              "505     0.04741               0.0           11.93              0    0.573   \n",
              "\n",
              "     avg_num_rooms  pre_1940  distance_to_city  highway_access  tax_rate  \\\n",
              "0            6.575      65.2            4.0900               1       296   \n",
              "1            6.421      78.9            4.9671               2       242   \n",
              "2            7.185      61.1            4.9671               2       242   \n",
              "3            6.998      45.8            6.0622               3       222   \n",
              "4            7.147      54.2            6.0622               3       222   \n",
              "..             ...       ...               ...             ...       ...   \n",
              "501          6.593      69.1            2.4786               1       273   \n",
              "502          6.120      76.7            2.2875               1       273   \n",
              "503          6.976      91.0            2.1675               1       273   \n",
              "504          6.794      89.3            2.3889               1       273   \n",
              "505          6.030      80.8            2.5050               1       273   \n",
              "\n",
              "     student_teacher_ratio  median_price  \n",
              "0                     15.3         24000  \n",
              "1                     17.8         21600  \n",
              "2                     17.8         34700  \n",
              "3                     18.7         33400  \n",
              "4                     18.7         36200  \n",
              "..                     ...           ...  \n",
              "501                   21.0         22400  \n",
              "502                   21.0         20600  \n",
              "503                   21.0         23900  \n",
              "504                   21.0         22000  \n",
              "505                   21.0         11900  \n",
              "\n",
              "[506 rows x 12 columns]"
            ],
            "text/html": [
              "\n",
              "  <div id=\"df-126733ff-f0a3-4f0a-bc4d-0d7090fe1dca\">\n",
              "    <div class=\"colab-df-container\">\n",
              "      <div>\n",
              "<style scoped>\n",
              "    .dataframe tbody tr th:only-of-type {\n",
              "        vertical-align: middle;\n",
              "    }\n",
              "\n",
              "    .dataframe tbody tr th {\n",
              "        vertical-align: top;\n",
              "    }\n",
              "\n",
              "    .dataframe thead th {\n",
              "        text-align: right;\n",
              "    }\n",
              "</style>\n",
              "<table border=\"1\" class=\"dataframe\">\n",
              "  <thead>\n",
              "    <tr style=\"text-align: right;\">\n",
              "      <th></th>\n",
              "      <th>crime_rate</th>\n",
              "      <th>big_lots_percent</th>\n",
              "      <th>office_percent</th>\n",
              "      <th>charles_river</th>\n",
              "      <th>nitrous</th>\n",
              "      <th>avg_num_rooms</th>\n",
              "      <th>pre_1940</th>\n",
              "      <th>distance_to_city</th>\n",
              "      <th>highway_access</th>\n",
              "      <th>tax_rate</th>\n",
              "      <th>student_teacher_ratio</th>\n",
              "      <th>median_price</th>\n",
              "    </tr>\n",
              "  </thead>\n",
              "  <tbody>\n",
              "    <tr>\n",
              "      <th>0</th>\n",
              "      <td>0.00632</td>\n",
              "      <td>18.0</td>\n",
              "      <td>2.31</td>\n",
              "      <td>0</td>\n",
              "      <td>0.538</td>\n",
              "      <td>6.575</td>\n",
              "      <td>65.2</td>\n",
              "      <td>4.0900</td>\n",
              "      <td>1</td>\n",
              "      <td>296</td>\n",
              "      <td>15.3</td>\n",
              "      <td>24000</td>\n",
              "    </tr>\n",
              "    <tr>\n",
              "      <th>1</th>\n",
              "      <td>0.02731</td>\n",
              "      <td>0.0</td>\n",
              "      <td>7.07</td>\n",
              "      <td>0</td>\n",
              "      <td>0.469</td>\n",
              "      <td>6.421</td>\n",
              "      <td>78.9</td>\n",
              "      <td>4.9671</td>\n",
              "      <td>2</td>\n",
              "      <td>242</td>\n",
              "      <td>17.8</td>\n",
              "      <td>21600</td>\n",
              "    </tr>\n",
              "    <tr>\n",
              "      <th>2</th>\n",
              "      <td>0.02729</td>\n",
              "      <td>0.0</td>\n",
              "      <td>7.07</td>\n",
              "      <td>0</td>\n",
              "      <td>0.469</td>\n",
              "      <td>7.185</td>\n",
              "      <td>61.1</td>\n",
              "      <td>4.9671</td>\n",
              "      <td>2</td>\n",
              "      <td>242</td>\n",
              "      <td>17.8</td>\n",
              "      <td>34700</td>\n",
              "    </tr>\n",
              "    <tr>\n",
              "      <th>3</th>\n",
              "      <td>0.03237</td>\n",
              "      <td>0.0</td>\n",
              "      <td>2.18</td>\n",
              "      <td>0</td>\n",
              "      <td>0.458</td>\n",
              "      <td>6.998</td>\n",
              "      <td>45.8</td>\n",
              "      <td>6.0622</td>\n",
              "      <td>3</td>\n",
              "      <td>222</td>\n",
              "      <td>18.7</td>\n",
              "      <td>33400</td>\n",
              "    </tr>\n",
              "    <tr>\n",
              "      <th>4</th>\n",
              "      <td>0.06905</td>\n",
              "      <td>0.0</td>\n",
              "      <td>2.18</td>\n",
              "      <td>0</td>\n",
              "      <td>0.458</td>\n",
              "      <td>7.147</td>\n",
              "      <td>54.2</td>\n",
              "      <td>6.0622</td>\n",
              "      <td>3</td>\n",
              "      <td>222</td>\n",
              "      <td>18.7</td>\n",
              "      <td>36200</td>\n",
              "    </tr>\n",
              "    <tr>\n",
              "      <th>...</th>\n",
              "      <td>...</td>\n",
              "      <td>...</td>\n",
              "      <td>...</td>\n",
              "      <td>...</td>\n",
              "      <td>...</td>\n",
              "      <td>...</td>\n",
              "      <td>...</td>\n",
              "      <td>...</td>\n",
              "      <td>...</td>\n",
              "      <td>...</td>\n",
              "      <td>...</td>\n",
              "      <td>...</td>\n",
              "    </tr>\n",
              "    <tr>\n",
              "      <th>501</th>\n",
              "      <td>0.06263</td>\n",
              "      <td>0.0</td>\n",
              "      <td>11.93</td>\n",
              "      <td>0</td>\n",
              "      <td>0.573</td>\n",
              "      <td>6.593</td>\n",
              "      <td>69.1</td>\n",
              "      <td>2.4786</td>\n",
              "      <td>1</td>\n",
              "      <td>273</td>\n",
              "      <td>21.0</td>\n",
              "      <td>22400</td>\n",
              "    </tr>\n",
              "    <tr>\n",
              "      <th>502</th>\n",
              "      <td>0.04527</td>\n",
              "      <td>0.0</td>\n",
              "      <td>11.93</td>\n",
              "      <td>0</td>\n",
              "      <td>0.573</td>\n",
              "      <td>6.120</td>\n",
              "      <td>76.7</td>\n",
              "      <td>2.2875</td>\n",
              "      <td>1</td>\n",
              "      <td>273</td>\n",
              "      <td>21.0</td>\n",
              "      <td>20600</td>\n",
              "    </tr>\n",
              "    <tr>\n",
              "      <th>503</th>\n",
              "      <td>0.06076</td>\n",
              "      <td>0.0</td>\n",
              "      <td>11.93</td>\n",
              "      <td>0</td>\n",
              "      <td>0.573</td>\n",
              "      <td>6.976</td>\n",
              "      <td>91.0</td>\n",
              "      <td>2.1675</td>\n",
              "      <td>1</td>\n",
              "      <td>273</td>\n",
              "      <td>21.0</td>\n",
              "      <td>23900</td>\n",
              "    </tr>\n",
              "    <tr>\n",
              "      <th>504</th>\n",
              "      <td>0.10959</td>\n",
              "      <td>0.0</td>\n",
              "      <td>11.93</td>\n",
              "      <td>0</td>\n",
              "      <td>0.573</td>\n",
              "      <td>6.794</td>\n",
              "      <td>89.3</td>\n",
              "      <td>2.3889</td>\n",
              "      <td>1</td>\n",
              "      <td>273</td>\n",
              "      <td>21.0</td>\n",
              "      <td>22000</td>\n",
              "    </tr>\n",
              "    <tr>\n",
              "      <th>505</th>\n",
              "      <td>0.04741</td>\n",
              "      <td>0.0</td>\n",
              "      <td>11.93</td>\n",
              "      <td>0</td>\n",
              "      <td>0.573</td>\n",
              "      <td>6.030</td>\n",
              "      <td>80.8</td>\n",
              "      <td>2.5050</td>\n",
              "      <td>1</td>\n",
              "      <td>273</td>\n",
              "      <td>21.0</td>\n",
              "      <td>11900</td>\n",
              "    </tr>\n",
              "  </tbody>\n",
              "</table>\n",
              "<p>506 rows × 12 columns</p>\n",
              "</div>\n",
              "      <button class=\"colab-df-convert\" onclick=\"convertToInteractive('df-126733ff-f0a3-4f0a-bc4d-0d7090fe1dca')\"\n",
              "              title=\"Convert this dataframe to an interactive table.\"\n",
              "              style=\"display:none;\">\n",
              "        \n",
              "  <svg xmlns=\"http://www.w3.org/2000/svg\" height=\"24px\"viewBox=\"0 0 24 24\"\n",
              "       width=\"24px\">\n",
              "    <path d=\"M0 0h24v24H0V0z\" fill=\"none\"/>\n",
              "    <path d=\"M18.56 5.44l.94 2.06.94-2.06 2.06-.94-2.06-.94-.94-2.06-.94 2.06-2.06.94zm-11 1L8.5 8.5l.94-2.06 2.06-.94-2.06-.94L8.5 2.5l-.94 2.06-2.06.94zm10 10l.94 2.06.94-2.06 2.06-.94-2.06-.94-.94-2.06-.94 2.06-2.06.94z\"/><path d=\"M17.41 7.96l-1.37-1.37c-.4-.4-.92-.59-1.43-.59-.52 0-1.04.2-1.43.59L10.3 9.45l-7.72 7.72c-.78.78-.78 2.05 0 2.83L4 21.41c.39.39.9.59 1.41.59.51 0 1.02-.2 1.41-.59l7.78-7.78 2.81-2.81c.8-.78.8-2.07 0-2.86zM5.41 20L4 18.59l7.72-7.72 1.47 1.35L5.41 20z\"/>\n",
              "  </svg>\n",
              "      </button>\n",
              "      \n",
              "  <style>\n",
              "    .colab-df-container {\n",
              "      display:flex;\n",
              "      flex-wrap:wrap;\n",
              "      gap: 12px;\n",
              "    }\n",
              "\n",
              "    .colab-df-convert {\n",
              "      background-color: #E8F0FE;\n",
              "      border: none;\n",
              "      border-radius: 50%;\n",
              "      cursor: pointer;\n",
              "      display: none;\n",
              "      fill: #1967D2;\n",
              "      height: 32px;\n",
              "      padding: 0 0 0 0;\n",
              "      width: 32px;\n",
              "    }\n",
              "\n",
              "    .colab-df-convert:hover {\n",
              "      background-color: #E2EBFA;\n",
              "      box-shadow: 0px 1px 2px rgba(60, 64, 67, 0.3), 0px 1px 3px 1px rgba(60, 64, 67, 0.15);\n",
              "      fill: #174EA6;\n",
              "    }\n",
              "\n",
              "    [theme=dark] .colab-df-convert {\n",
              "      background-color: #3B4455;\n",
              "      fill: #D2E3FC;\n",
              "    }\n",
              "\n",
              "    [theme=dark] .colab-df-convert:hover {\n",
              "      background-color: #434B5C;\n",
              "      box-shadow: 0px 1px 3px 1px rgba(0, 0, 0, 0.15);\n",
              "      filter: drop-shadow(0px 1px 2px rgba(0, 0, 0, 0.3));\n",
              "      fill: #FFFFFF;\n",
              "    }\n",
              "  </style>\n",
              "\n",
              "      <script>\n",
              "        const buttonEl =\n",
              "          document.querySelector('#df-126733ff-f0a3-4f0a-bc4d-0d7090fe1dca button.colab-df-convert');\n",
              "        buttonEl.style.display =\n",
              "          google.colab.kernel.accessAllowed ? 'block' : 'none';\n",
              "\n",
              "        async function convertToInteractive(key) {\n",
              "          const element = document.querySelector('#df-126733ff-f0a3-4f0a-bc4d-0d7090fe1dca');\n",
              "          const dataTable =\n",
              "            await google.colab.kernel.invokeFunction('convertToInteractive',\n",
              "                                                     [key], {});\n",
              "          if (!dataTable) return;\n",
              "\n",
              "          const docLinkHtml = 'Like what you see? Visit the ' +\n",
              "            '<a target=\"_blank\" href=https://colab.research.google.com/notebooks/data_table.ipynb>data table notebook</a>'\n",
              "            + ' to learn more about interactive tables.';\n",
              "          element.innerHTML = '';\n",
              "          dataTable['output_type'] = 'display_data';\n",
              "          await google.colab.output.renderOutput(dataTable, element);\n",
              "          const docLink = document.createElement('div');\n",
              "          docLink.innerHTML = docLinkHtml;\n",
              "          element.appendChild(docLink);\n",
              "        }\n",
              "      </script>\n",
              "    </div>\n",
              "  </div>\n",
              "  "
            ]
          },
          "metadata": {},
          "execution_count": 82
        }
      ]
    },
    {
      "cell_type": "code",
      "source": [
        "# information about each columns and whether they contain null or non null values. \n",
        "\n",
        "df.info()"
      ],
      "metadata": {
        "id": "FoCslxI-Wb53",
        "colab": {
          "base_uri": "https://localhost:8080/"
        },
        "outputId": "02651d6e-09ef-41b4-f4e6-239618bb7ed1"
      },
      "execution_count": 83,
      "outputs": [
        {
          "output_type": "stream",
          "name": "stdout",
          "text": [
            "<class 'pandas.core.frame.DataFrame'>\n",
            "RangeIndex: 506 entries, 0 to 505\n",
            "Data columns (total 12 columns):\n",
            " #   Column                 Non-Null Count  Dtype  \n",
            "---  ------                 --------------  -----  \n",
            " 0   crime_rate             506 non-null    float64\n",
            " 1   big_lots_percent       506 non-null    float64\n",
            " 2   office_percent         506 non-null    float64\n",
            " 3   charles_river          506 non-null    int64  \n",
            " 4   nitrous                506 non-null    float64\n",
            " 5   avg_num_rooms          506 non-null    float64\n",
            " 6   pre_1940               506 non-null    float64\n",
            " 7   distance_to_city       506 non-null    float64\n",
            " 8   highway_access         506 non-null    int64  \n",
            " 9   tax_rate               506 non-null    int64  \n",
            " 10  student_teacher_ratio  506 non-null    float64\n",
            " 11  median_price           506 non-null    int64  \n",
            "dtypes: float64(8), int64(4)\n",
            "memory usage: 47.6 KB\n"
          ]
        }
      ]
    },
    {
      "cell_type": "code",
      "source": [
        "# describing each columns(factors that have an impact on housing prices) and their numeric value based on count, mean, standard deviation, min,and percentile ranges. \n",
        "df.describe()"
      ],
      "metadata": {
        "id": "j-LtCV4PWcDC",
        "colab": {
          "base_uri": "https://localhost:8080/",
          "height": 300
        },
        "outputId": "d9bb81ad-5b52-4e91-968b-d02ec7041f63"
      },
      "execution_count": 84,
      "outputs": [
        {
          "output_type": "execute_result",
          "data": {
            "text/plain": [
              "       crime_rate  big_lots_percent  office_percent  charles_river  \\\n",
              "count  506.000000        506.000000      506.000000     506.000000   \n",
              "mean     3.613524         11.363636       11.136779       0.069170   \n",
              "std      8.601545         23.322453        6.860353       0.253994   \n",
              "min      0.006320          0.000000        0.460000       0.000000   \n",
              "25%      0.082045          0.000000        5.190000       0.000000   \n",
              "50%      0.256510          0.000000        9.690000       0.000000   \n",
              "75%      3.677083         12.500000       18.100000       0.000000   \n",
              "max     88.976200        100.000000       27.740000       1.000000   \n",
              "\n",
              "          nitrous  avg_num_rooms    pre_1940  distance_to_city  \\\n",
              "count  506.000000     506.000000  506.000000        506.000000   \n",
              "mean     0.554695       6.284634   68.574901          3.795043   \n",
              "std      0.115878       0.702617   28.148861          2.105710   \n",
              "min      0.385000       3.561000    2.900000          1.129600   \n",
              "25%      0.449000       5.885500   45.025000          2.100175   \n",
              "50%      0.538000       6.208500   77.500000          3.207450   \n",
              "75%      0.624000       6.623500   94.075000          5.188425   \n",
              "max      0.871000       8.780000  100.000000         12.126500   \n",
              "\n",
              "       highway_access    tax_rate  student_teacher_ratio  median_price  \n",
              "count      506.000000  506.000000             506.000000    506.000000  \n",
              "mean         9.549407  408.237154              18.455534  22532.806324  \n",
              "std          8.707259  168.537116               2.164946   9197.104087  \n",
              "min          1.000000  187.000000              12.600000   5000.000000  \n",
              "25%          4.000000  279.000000              17.400000  17025.000000  \n",
              "50%          5.000000  330.000000              19.050000  21200.000000  \n",
              "75%         24.000000  666.000000              20.200000  25000.000000  \n",
              "max         24.000000  711.000000              22.000000  50000.000000  "
            ],
            "text/html": [
              "\n",
              "  <div id=\"df-a6d3bc58-7fdf-4dc6-96c5-c9fd7650055c\">\n",
              "    <div class=\"colab-df-container\">\n",
              "      <div>\n",
              "<style scoped>\n",
              "    .dataframe tbody tr th:only-of-type {\n",
              "        vertical-align: middle;\n",
              "    }\n",
              "\n",
              "    .dataframe tbody tr th {\n",
              "        vertical-align: top;\n",
              "    }\n",
              "\n",
              "    .dataframe thead th {\n",
              "        text-align: right;\n",
              "    }\n",
              "</style>\n",
              "<table border=\"1\" class=\"dataframe\">\n",
              "  <thead>\n",
              "    <tr style=\"text-align: right;\">\n",
              "      <th></th>\n",
              "      <th>crime_rate</th>\n",
              "      <th>big_lots_percent</th>\n",
              "      <th>office_percent</th>\n",
              "      <th>charles_river</th>\n",
              "      <th>nitrous</th>\n",
              "      <th>avg_num_rooms</th>\n",
              "      <th>pre_1940</th>\n",
              "      <th>distance_to_city</th>\n",
              "      <th>highway_access</th>\n",
              "      <th>tax_rate</th>\n",
              "      <th>student_teacher_ratio</th>\n",
              "      <th>median_price</th>\n",
              "    </tr>\n",
              "  </thead>\n",
              "  <tbody>\n",
              "    <tr>\n",
              "      <th>count</th>\n",
              "      <td>506.000000</td>\n",
              "      <td>506.000000</td>\n",
              "      <td>506.000000</td>\n",
              "      <td>506.000000</td>\n",
              "      <td>506.000000</td>\n",
              "      <td>506.000000</td>\n",
              "      <td>506.000000</td>\n",
              "      <td>506.000000</td>\n",
              "      <td>506.000000</td>\n",
              "      <td>506.000000</td>\n",
              "      <td>506.000000</td>\n",
              "      <td>506.000000</td>\n",
              "    </tr>\n",
              "    <tr>\n",
              "      <th>mean</th>\n",
              "      <td>3.613524</td>\n",
              "      <td>11.363636</td>\n",
              "      <td>11.136779</td>\n",
              "      <td>0.069170</td>\n",
              "      <td>0.554695</td>\n",
              "      <td>6.284634</td>\n",
              "      <td>68.574901</td>\n",
              "      <td>3.795043</td>\n",
              "      <td>9.549407</td>\n",
              "      <td>408.237154</td>\n",
              "      <td>18.455534</td>\n",
              "      <td>22532.806324</td>\n",
              "    </tr>\n",
              "    <tr>\n",
              "      <th>std</th>\n",
              "      <td>8.601545</td>\n",
              "      <td>23.322453</td>\n",
              "      <td>6.860353</td>\n",
              "      <td>0.253994</td>\n",
              "      <td>0.115878</td>\n",
              "      <td>0.702617</td>\n",
              "      <td>28.148861</td>\n",
              "      <td>2.105710</td>\n",
              "      <td>8.707259</td>\n",
              "      <td>168.537116</td>\n",
              "      <td>2.164946</td>\n",
              "      <td>9197.104087</td>\n",
              "    </tr>\n",
              "    <tr>\n",
              "      <th>min</th>\n",
              "      <td>0.006320</td>\n",
              "      <td>0.000000</td>\n",
              "      <td>0.460000</td>\n",
              "      <td>0.000000</td>\n",
              "      <td>0.385000</td>\n",
              "      <td>3.561000</td>\n",
              "      <td>2.900000</td>\n",
              "      <td>1.129600</td>\n",
              "      <td>1.000000</td>\n",
              "      <td>187.000000</td>\n",
              "      <td>12.600000</td>\n",
              "      <td>5000.000000</td>\n",
              "    </tr>\n",
              "    <tr>\n",
              "      <th>25%</th>\n",
              "      <td>0.082045</td>\n",
              "      <td>0.000000</td>\n",
              "      <td>5.190000</td>\n",
              "      <td>0.000000</td>\n",
              "      <td>0.449000</td>\n",
              "      <td>5.885500</td>\n",
              "      <td>45.025000</td>\n",
              "      <td>2.100175</td>\n",
              "      <td>4.000000</td>\n",
              "      <td>279.000000</td>\n",
              "      <td>17.400000</td>\n",
              "      <td>17025.000000</td>\n",
              "    </tr>\n",
              "    <tr>\n",
              "      <th>50%</th>\n",
              "      <td>0.256510</td>\n",
              "      <td>0.000000</td>\n",
              "      <td>9.690000</td>\n",
              "      <td>0.000000</td>\n",
              "      <td>0.538000</td>\n",
              "      <td>6.208500</td>\n",
              "      <td>77.500000</td>\n",
              "      <td>3.207450</td>\n",
              "      <td>5.000000</td>\n",
              "      <td>330.000000</td>\n",
              "      <td>19.050000</td>\n",
              "      <td>21200.000000</td>\n",
              "    </tr>\n",
              "    <tr>\n",
              "      <th>75%</th>\n",
              "      <td>3.677083</td>\n",
              "      <td>12.500000</td>\n",
              "      <td>18.100000</td>\n",
              "      <td>0.000000</td>\n",
              "      <td>0.624000</td>\n",
              "      <td>6.623500</td>\n",
              "      <td>94.075000</td>\n",
              "      <td>5.188425</td>\n",
              "      <td>24.000000</td>\n",
              "      <td>666.000000</td>\n",
              "      <td>20.200000</td>\n",
              "      <td>25000.000000</td>\n",
              "    </tr>\n",
              "    <tr>\n",
              "      <th>max</th>\n",
              "      <td>88.976200</td>\n",
              "      <td>100.000000</td>\n",
              "      <td>27.740000</td>\n",
              "      <td>1.000000</td>\n",
              "      <td>0.871000</td>\n",
              "      <td>8.780000</td>\n",
              "      <td>100.000000</td>\n",
              "      <td>12.126500</td>\n",
              "      <td>24.000000</td>\n",
              "      <td>711.000000</td>\n",
              "      <td>22.000000</td>\n",
              "      <td>50000.000000</td>\n",
              "    </tr>\n",
              "  </tbody>\n",
              "</table>\n",
              "</div>\n",
              "      <button class=\"colab-df-convert\" onclick=\"convertToInteractive('df-a6d3bc58-7fdf-4dc6-96c5-c9fd7650055c')\"\n",
              "              title=\"Convert this dataframe to an interactive table.\"\n",
              "              style=\"display:none;\">\n",
              "        \n",
              "  <svg xmlns=\"http://www.w3.org/2000/svg\" height=\"24px\"viewBox=\"0 0 24 24\"\n",
              "       width=\"24px\">\n",
              "    <path d=\"M0 0h24v24H0V0z\" fill=\"none\"/>\n",
              "    <path d=\"M18.56 5.44l.94 2.06.94-2.06 2.06-.94-2.06-.94-.94-2.06-.94 2.06-2.06.94zm-11 1L8.5 8.5l.94-2.06 2.06-.94-2.06-.94L8.5 2.5l-.94 2.06-2.06.94zm10 10l.94 2.06.94-2.06 2.06-.94-2.06-.94-.94-2.06-.94 2.06-2.06.94z\"/><path d=\"M17.41 7.96l-1.37-1.37c-.4-.4-.92-.59-1.43-.59-.52 0-1.04.2-1.43.59L10.3 9.45l-7.72 7.72c-.78.78-.78 2.05 0 2.83L4 21.41c.39.39.9.59 1.41.59.51 0 1.02-.2 1.41-.59l7.78-7.78 2.81-2.81c.8-.78.8-2.07 0-2.86zM5.41 20L4 18.59l7.72-7.72 1.47 1.35L5.41 20z\"/>\n",
              "  </svg>\n",
              "      </button>\n",
              "      \n",
              "  <style>\n",
              "    .colab-df-container {\n",
              "      display:flex;\n",
              "      flex-wrap:wrap;\n",
              "      gap: 12px;\n",
              "    }\n",
              "\n",
              "    .colab-df-convert {\n",
              "      background-color: #E8F0FE;\n",
              "      border: none;\n",
              "      border-radius: 50%;\n",
              "      cursor: pointer;\n",
              "      display: none;\n",
              "      fill: #1967D2;\n",
              "      height: 32px;\n",
              "      padding: 0 0 0 0;\n",
              "      width: 32px;\n",
              "    }\n",
              "\n",
              "    .colab-df-convert:hover {\n",
              "      background-color: #E2EBFA;\n",
              "      box-shadow: 0px 1px 2px rgba(60, 64, 67, 0.3), 0px 1px 3px 1px rgba(60, 64, 67, 0.15);\n",
              "      fill: #174EA6;\n",
              "    }\n",
              "\n",
              "    [theme=dark] .colab-df-convert {\n",
              "      background-color: #3B4455;\n",
              "      fill: #D2E3FC;\n",
              "    }\n",
              "\n",
              "    [theme=dark] .colab-df-convert:hover {\n",
              "      background-color: #434B5C;\n",
              "      box-shadow: 0px 1px 3px 1px rgba(0, 0, 0, 0.15);\n",
              "      filter: drop-shadow(0px 1px 2px rgba(0, 0, 0, 0.3));\n",
              "      fill: #FFFFFF;\n",
              "    }\n",
              "  </style>\n",
              "\n",
              "      <script>\n",
              "        const buttonEl =\n",
              "          document.querySelector('#df-a6d3bc58-7fdf-4dc6-96c5-c9fd7650055c button.colab-df-convert');\n",
              "        buttonEl.style.display =\n",
              "          google.colab.kernel.accessAllowed ? 'block' : 'none';\n",
              "\n",
              "        async function convertToInteractive(key) {\n",
              "          const element = document.querySelector('#df-a6d3bc58-7fdf-4dc6-96c5-c9fd7650055c');\n",
              "          const dataTable =\n",
              "            await google.colab.kernel.invokeFunction('convertToInteractive',\n",
              "                                                     [key], {});\n",
              "          if (!dataTable) return;\n",
              "\n",
              "          const docLinkHtml = 'Like what you see? Visit the ' +\n",
              "            '<a target=\"_blank\" href=https://colab.research.google.com/notebooks/data_table.ipynb>data table notebook</a>'\n",
              "            + ' to learn more about interactive tables.';\n",
              "          element.innerHTML = '';\n",
              "          dataTable['output_type'] = 'display_data';\n",
              "          await google.colab.output.renderOutput(dataTable, element);\n",
              "          const docLink = document.createElement('div');\n",
              "          docLink.innerHTML = docLinkHtml;\n",
              "          element.appendChild(docLink);\n",
              "        }\n",
              "      </script>\n",
              "    </div>\n",
              "  </div>\n",
              "  "
            ]
          },
          "metadata": {},
          "execution_count": 84
        }
      ]
    },
    {
      "cell_type": "code",
      "source": [
        "# we are going to find the first five rows and also the parameters that are stored within our dataframe.\n",
        "\n",
        "df.head()"
      ],
      "metadata": {
        "id": "XziYltGZWb_h",
        "colab": {
          "base_uri": "https://localhost:8080/",
          "height": 206
        },
        "outputId": "a5e6aa67-d97d-4e89-f8b7-cd6c8aab5b6f"
      },
      "execution_count": 85,
      "outputs": [
        {
          "output_type": "execute_result",
          "data": {
            "text/plain": [
              "   crime_rate  big_lots_percent  office_percent  charles_river  nitrous  \\\n",
              "0     0.00632              18.0            2.31              0    0.538   \n",
              "1     0.02731               0.0            7.07              0    0.469   \n",
              "2     0.02729               0.0            7.07              0    0.469   \n",
              "3     0.03237               0.0            2.18              0    0.458   \n",
              "4     0.06905               0.0            2.18              0    0.458   \n",
              "\n",
              "   avg_num_rooms  pre_1940  distance_to_city  highway_access  tax_rate  \\\n",
              "0          6.575      65.2            4.0900               1       296   \n",
              "1          6.421      78.9            4.9671               2       242   \n",
              "2          7.185      61.1            4.9671               2       242   \n",
              "3          6.998      45.8            6.0622               3       222   \n",
              "4          7.147      54.2            6.0622               3       222   \n",
              "\n",
              "   student_teacher_ratio  median_price  \n",
              "0                   15.3         24000  \n",
              "1                   17.8         21600  \n",
              "2                   17.8         34700  \n",
              "3                   18.7         33400  \n",
              "4                   18.7         36200  "
            ],
            "text/html": [
              "\n",
              "  <div id=\"df-eabf5039-d254-4d7b-85f0-9a51f2ec173a\">\n",
              "    <div class=\"colab-df-container\">\n",
              "      <div>\n",
              "<style scoped>\n",
              "    .dataframe tbody tr th:only-of-type {\n",
              "        vertical-align: middle;\n",
              "    }\n",
              "\n",
              "    .dataframe tbody tr th {\n",
              "        vertical-align: top;\n",
              "    }\n",
              "\n",
              "    .dataframe thead th {\n",
              "        text-align: right;\n",
              "    }\n",
              "</style>\n",
              "<table border=\"1\" class=\"dataframe\">\n",
              "  <thead>\n",
              "    <tr style=\"text-align: right;\">\n",
              "      <th></th>\n",
              "      <th>crime_rate</th>\n",
              "      <th>big_lots_percent</th>\n",
              "      <th>office_percent</th>\n",
              "      <th>charles_river</th>\n",
              "      <th>nitrous</th>\n",
              "      <th>avg_num_rooms</th>\n",
              "      <th>pre_1940</th>\n",
              "      <th>distance_to_city</th>\n",
              "      <th>highway_access</th>\n",
              "      <th>tax_rate</th>\n",
              "      <th>student_teacher_ratio</th>\n",
              "      <th>median_price</th>\n",
              "    </tr>\n",
              "  </thead>\n",
              "  <tbody>\n",
              "    <tr>\n",
              "      <th>0</th>\n",
              "      <td>0.00632</td>\n",
              "      <td>18.0</td>\n",
              "      <td>2.31</td>\n",
              "      <td>0</td>\n",
              "      <td>0.538</td>\n",
              "      <td>6.575</td>\n",
              "      <td>65.2</td>\n",
              "      <td>4.0900</td>\n",
              "      <td>1</td>\n",
              "      <td>296</td>\n",
              "      <td>15.3</td>\n",
              "      <td>24000</td>\n",
              "    </tr>\n",
              "    <tr>\n",
              "      <th>1</th>\n",
              "      <td>0.02731</td>\n",
              "      <td>0.0</td>\n",
              "      <td>7.07</td>\n",
              "      <td>0</td>\n",
              "      <td>0.469</td>\n",
              "      <td>6.421</td>\n",
              "      <td>78.9</td>\n",
              "      <td>4.9671</td>\n",
              "      <td>2</td>\n",
              "      <td>242</td>\n",
              "      <td>17.8</td>\n",
              "      <td>21600</td>\n",
              "    </tr>\n",
              "    <tr>\n",
              "      <th>2</th>\n",
              "      <td>0.02729</td>\n",
              "      <td>0.0</td>\n",
              "      <td>7.07</td>\n",
              "      <td>0</td>\n",
              "      <td>0.469</td>\n",
              "      <td>7.185</td>\n",
              "      <td>61.1</td>\n",
              "      <td>4.9671</td>\n",
              "      <td>2</td>\n",
              "      <td>242</td>\n",
              "      <td>17.8</td>\n",
              "      <td>34700</td>\n",
              "    </tr>\n",
              "    <tr>\n",
              "      <th>3</th>\n",
              "      <td>0.03237</td>\n",
              "      <td>0.0</td>\n",
              "      <td>2.18</td>\n",
              "      <td>0</td>\n",
              "      <td>0.458</td>\n",
              "      <td>6.998</td>\n",
              "      <td>45.8</td>\n",
              "      <td>6.0622</td>\n",
              "      <td>3</td>\n",
              "      <td>222</td>\n",
              "      <td>18.7</td>\n",
              "      <td>33400</td>\n",
              "    </tr>\n",
              "    <tr>\n",
              "      <th>4</th>\n",
              "      <td>0.06905</td>\n",
              "      <td>0.0</td>\n",
              "      <td>2.18</td>\n",
              "      <td>0</td>\n",
              "      <td>0.458</td>\n",
              "      <td>7.147</td>\n",
              "      <td>54.2</td>\n",
              "      <td>6.0622</td>\n",
              "      <td>3</td>\n",
              "      <td>222</td>\n",
              "      <td>18.7</td>\n",
              "      <td>36200</td>\n",
              "    </tr>\n",
              "  </tbody>\n",
              "</table>\n",
              "</div>\n",
              "      <button class=\"colab-df-convert\" onclick=\"convertToInteractive('df-eabf5039-d254-4d7b-85f0-9a51f2ec173a')\"\n",
              "              title=\"Convert this dataframe to an interactive table.\"\n",
              "              style=\"display:none;\">\n",
              "        \n",
              "  <svg xmlns=\"http://www.w3.org/2000/svg\" height=\"24px\"viewBox=\"0 0 24 24\"\n",
              "       width=\"24px\">\n",
              "    <path d=\"M0 0h24v24H0V0z\" fill=\"none\"/>\n",
              "    <path d=\"M18.56 5.44l.94 2.06.94-2.06 2.06-.94-2.06-.94-.94-2.06-.94 2.06-2.06.94zm-11 1L8.5 8.5l.94-2.06 2.06-.94-2.06-.94L8.5 2.5l-.94 2.06-2.06.94zm10 10l.94 2.06.94-2.06 2.06-.94-2.06-.94-.94-2.06-.94 2.06-2.06.94z\"/><path d=\"M17.41 7.96l-1.37-1.37c-.4-.4-.92-.59-1.43-.59-.52 0-1.04.2-1.43.59L10.3 9.45l-7.72 7.72c-.78.78-.78 2.05 0 2.83L4 21.41c.39.39.9.59 1.41.59.51 0 1.02-.2 1.41-.59l7.78-7.78 2.81-2.81c.8-.78.8-2.07 0-2.86zM5.41 20L4 18.59l7.72-7.72 1.47 1.35L5.41 20z\"/>\n",
              "  </svg>\n",
              "      </button>\n",
              "      \n",
              "  <style>\n",
              "    .colab-df-container {\n",
              "      display:flex;\n",
              "      flex-wrap:wrap;\n",
              "      gap: 12px;\n",
              "    }\n",
              "\n",
              "    .colab-df-convert {\n",
              "      background-color: #E8F0FE;\n",
              "      border: none;\n",
              "      border-radius: 50%;\n",
              "      cursor: pointer;\n",
              "      display: none;\n",
              "      fill: #1967D2;\n",
              "      height: 32px;\n",
              "      padding: 0 0 0 0;\n",
              "      width: 32px;\n",
              "    }\n",
              "\n",
              "    .colab-df-convert:hover {\n",
              "      background-color: #E2EBFA;\n",
              "      box-shadow: 0px 1px 2px rgba(60, 64, 67, 0.3), 0px 1px 3px 1px rgba(60, 64, 67, 0.15);\n",
              "      fill: #174EA6;\n",
              "    }\n",
              "\n",
              "    [theme=dark] .colab-df-convert {\n",
              "      background-color: #3B4455;\n",
              "      fill: #D2E3FC;\n",
              "    }\n",
              "\n",
              "    [theme=dark] .colab-df-convert:hover {\n",
              "      background-color: #434B5C;\n",
              "      box-shadow: 0px 1px 3px 1px rgba(0, 0, 0, 0.15);\n",
              "      filter: drop-shadow(0px 1px 2px rgba(0, 0, 0, 0.3));\n",
              "      fill: #FFFFFF;\n",
              "    }\n",
              "  </style>\n",
              "\n",
              "      <script>\n",
              "        const buttonEl =\n",
              "          document.querySelector('#df-eabf5039-d254-4d7b-85f0-9a51f2ec173a button.colab-df-convert');\n",
              "        buttonEl.style.display =\n",
              "          google.colab.kernel.accessAllowed ? 'block' : 'none';\n",
              "\n",
              "        async function convertToInteractive(key) {\n",
              "          const element = document.querySelector('#df-eabf5039-d254-4d7b-85f0-9a51f2ec173a');\n",
              "          const dataTable =\n",
              "            await google.colab.kernel.invokeFunction('convertToInteractive',\n",
              "                                                     [key], {});\n",
              "          if (!dataTable) return;\n",
              "\n",
              "          const docLinkHtml = 'Like what you see? Visit the ' +\n",
              "            '<a target=\"_blank\" href=https://colab.research.google.com/notebooks/data_table.ipynb>data table notebook</a>'\n",
              "            + ' to learn more about interactive tables.';\n",
              "          element.innerHTML = '';\n",
              "          dataTable['output_type'] = 'display_data';\n",
              "          await google.colab.output.renderOutput(dataTable, element);\n",
              "          const docLink = document.createElement('div');\n",
              "          docLink.innerHTML = docLinkHtml;\n",
              "          element.appendChild(docLink);\n",
              "        }\n",
              "      </script>\n",
              "    </div>\n",
              "  </div>\n",
              "  "
            ]
          },
          "metadata": {},
          "execution_count": 85
        }
      ]
    },
    {
      "cell_type": "code",
      "source": [
        "# we are going to see whether there are any null values stored in our set. since there is no null we are good to continue to the next step. \n",
        "# we do not have to drop any missing values are assign them to anything as all our values are intact. \n",
        "\n",
        "df.isnull().sum()"
      ],
      "metadata": {
        "colab": {
          "base_uri": "https://localhost:8080/"
        },
        "id": "5xU6ZGeqZ5Ie",
        "outputId": "5b7e334c-7c8b-4e15-b314-12d3b85b38a9"
      },
      "execution_count": 86,
      "outputs": [
        {
          "output_type": "execute_result",
          "data": {
            "text/plain": [
              "crime_rate               0\n",
              "big_lots_percent         0\n",
              "office_percent           0\n",
              "charles_river            0\n",
              "nitrous                  0\n",
              "avg_num_rooms            0\n",
              "pre_1940                 0\n",
              "distance_to_city         0\n",
              "highway_access           0\n",
              "tax_rate                 0\n",
              "student_teacher_ratio    0\n",
              "median_price             0\n",
              "dtype: int64"
            ]
          },
          "metadata": {},
          "execution_count": 86
        }
      ]
    },
    {
      "cell_type": "code",
      "source": [
        "#checking to see columns in our dataset. \n",
        "\n",
        "df.columns"
      ],
      "metadata": {
        "id": "eSbFbYLnWcIP",
        "colab": {
          "base_uri": "https://localhost:8080/"
        },
        "outputId": "f067c8ec-a759-4bed-a748-33053e8097bf"
      },
      "execution_count": 87,
      "outputs": [
        {
          "output_type": "execute_result",
          "data": {
            "text/plain": [
              "Index(['crime_rate', 'big_lots_percent', 'office_percent', 'charles_river',\n",
              "       'nitrous', 'avg_num_rooms', 'pre_1940', 'distance_to_city',\n",
              "       'highway_access', 'tax_rate', 'student_teacher_ratio', 'median_price'],\n",
              "      dtype='object')"
            ]
          },
          "metadata": {},
          "execution_count": 87
        }
      ]
    },
    {
      "cell_type": "code",
      "source": [
        "# We are checking to see whehter there are any missing values stored within our object. \n",
        "#Since there are no missing values, no need to drop anything in our dataset. \n",
        "\n",
        "for col in df.columns:\n",
        "    if df[col].dtype == object:\n",
        "        print(col,df[col][df[col] == '?'].count())\n"
      ],
      "metadata": {
        "id": "jtopQ5jNc08M"
      },
      "execution_count": 88,
      "outputs": []
    },
    {
      "cell_type": "markdown",
      "source": [
        "# Task 5: Data Visualiztion"
      ],
      "metadata": {
        "id": "0IZdO9KHLWkY"
      }
    },
    {
      "cell_type": "markdown",
      "source": [
        "Contributors: Sefat Monzor, Jaden Dodoo-Tawiah, and Ahnaf Islam\n",
        "\n",
        "Here are the five visualizations types we will be using\n",
        "\n",
        "  1) Scatterplot\n",
        "  2) plt figure\n",
        "  3) countplot\n",
        "  4) lmplot"
      ],
      "metadata": {
        "id": "We15tu7ALfbp"
      }
    },
    {
      "cell_type": "markdown",
      "source": [
        "1. Scatter Plot (Sefat) "
      ],
      "metadata": {
        "id": "ixsdugZLtL8i"
      }
    },
    {
      "cell_type": "code",
      "source": [
        "ax = sns.scatterplot(x='avg_num_rooms', y = 'median_price', data=df, hue = 'distance_to_city')\n",
        "ax.set_title('Average num of rooms vs Median price');"
      ],
      "metadata": {
        "colab": {
          "base_uri": "https://localhost:8080/",
          "height": 301
        },
        "id": "dtPHEBBcRdvO",
        "outputId": "1e737b8c-71a0-4374-f455-7a01c09c7c95"
      },
      "execution_count": 89,
      "outputs": [
        {
          "output_type": "display_data",
          "data": {
            "text/plain": [
              "<Figure size 432x288 with 1 Axes>"
            ],
            "image/png": "[encoded data removed]"
          },
          "metadata": {
            "needs_background": "light"
          }
        }
      ]
    },
    {
      "cell_type": "markdown",
      "source": [
        "##### The median price is highly related to the average number of rooms on a house. \n",
        "\n",
        "##### The median price is positively related to the higher number of rooms and the correlation is negatively related as the number of rooms decreases in a house. \n",
        "###### From the scatter plot, it is also observed that the median price is positively related with the distance to city. The higher the distance is, the higher the price seems to be. "
      ],
      "metadata": {
        "id": "7HR9V3T7tPv3"
      }
    },
    {
      "cell_type": "markdown",
      "source": [
        "2. Countplot "
      ],
      "metadata": {
        "id": "OJAjr7eRtPfm"
      }
    },
    {
      "cell_type": "code",
      "source": [
        "# contributers to this part : Ahnaf Islam and Jaden dodo-tawiah\n",
        "sns.set_style('whitegrid')# here it shows the median pice of house and the number of available houses\n",
        "sns.countplot(x='median_price', data=df, palette='RdBu_r')"
      ],
      "metadata": {
        "id": "T2p-kVRy52vE",
        "colab": {
          "base_uri": "https://localhost:8080/",
          "height": 302
        },
        "outputId": "425f8fd2-688a-49a7-dc3e-147cd2bcc096"
      },
      "execution_count": 123,
      "outputs": [
        {
          "output_type": "execute_result",
          "data": {
            "text/plain": [
              "<matplotlib.axes._subplots.AxesSubplot at 0x7f9ebacb2790>"
            ]
          },
          "metadata": {},
          "execution_count": 123
        },
        {
          "output_type": "display_data",
          "data": {
            "text/plain": [
              "<Figure size 432x288 with 1 Axes>"
            ],
            "image/png": "[encoded data removed]"
          },
          "metadata": {}
        }
      ]
    },
    {
      "cell_type": "code",
      "source": [
        "plt.figure(figsize=(15,7)) # the size of the graph, width - 15, height - 7\n",
        "plt.bar(x='median_price', height='student_teacher_ratio', color='red') \n",
        "plt.xticks(rotation=90) #rotates the levels of x-axis to 90 degree angle \n",
        "plt.show()"
      ],
      "metadata": {
        "colab": {
          "base_uri": "https://localhost:8080/",
          "height": 496
        },
        "id": "4q1HoAHR8hY9",
        "outputId": "6fd8aa6a-89a0-46e7-d6ea-c0019b4cd150"
      },
      "execution_count": 91,
      "outputs": [
        {
          "output_type": "display_data",
          "data": {
            "text/plain": [
              "<Figure size 1080x504 with 1 Axes>"
            ],
            "image/png": "[encoded data removed]"
          },
          "metadata": {}
        }
      ]
    },
    {
      "cell_type": "markdown",
      "source": [
        "####3) Implot (Sefat) "
      ],
      "metadata": {
        "id": "FhXsSHZcVuxF"
      }
    },
    {
      "cell_type": "code",
      "source": [
        "sns.lmplot(data=df, x = \"avg_num_rooms\", y = \"median_price\", height = 8)# different visuals for huse price "
      ],
      "metadata": {
        "colab": {
          "base_uri": "https://localhost:8080/",
          "height": 602
        },
        "id": "wzH6jQufwDqv",
        "outputId": "8719857a-01fd-414f-8dea-e94770894d8c"
      },
      "execution_count": 92,
      "outputs": [
        {
          "output_type": "execute_result",
          "data": {
            "text/plain": [
              "<seaborn.axisgrid.FacetGrid at 0x7f9ebb350290>"
            ]
          },
          "metadata": {},
          "execution_count": 92
        },
        {
          "output_type": "display_data",
          "data": {
            "text/plain": [
              "<Figure size 576x576 with 1 Axes>"
            ],
            "image/png": "[encoded data removed]"
          },
          "metadata": {}
        }
      ]
    },
    {
      "cell_type": "markdown",
      "source": [
        "The Implot above shares the relationship between the independent(Ave num rooms) and dependent variable(median prices). There is a positive correlation between median price and avg room numbers. The best fit line shows the tendency of increasing median prices of the houses with the increasing avg num of roooms in the house. "
      ],
      "metadata": {
        "id": "JE8MkN9AXY5n"
      }
    },
    {
      "cell_type": "code",
      "source": [
        ""
      ],
      "metadata": {
        "id": "mUtj6s0vwDm-"
      },
      "execution_count": null,
      "outputs": []
    },
    {
      "cell_type": "markdown",
      "source": [
        "# Task 6: Compute the Cost Function \n",
        "\n",
        "#### This analysis does not require it. "
      ],
      "metadata": {
        "id": "1uFkCtD8LbVr"
      }
    },
    {
      "cell_type": "markdown",
      "source": [
        "#Task 7: Compute the Gradient Descent\n",
        "\n",
        "#### This analysis does not require it."
      ],
      "metadata": {
        "id": "Ukivs2kLfUHe"
      }
    },
    {
      "cell_type": "markdown",
      "source": [
        "#Task 8: Perform Train Test Split and Linear Regression (Jordan)"
      ],
      "metadata": {
        "id": "y851vi1nNNMv"
      }
    },
    {
      "cell_type": "markdown",
      "source": [
        "Each data split was testsed with the mean value of the corresponding column. This provides a basis to compare the expected value versus the observed value."
      ],
      "metadata": {
        "id": "CmTJ46cWiOfj"
      }
    },
    {
      "cell_type": "markdown",
      "source": [
        "### First Data Split"
      ],
      "metadata": {
        "id": "eRhIkoDiqFzK"
      }
    },
    {
      "cell_type": "code",
      "source": [
        "from sklearn.linear_model import LinearRegression\n",
        "from sklearn.model_selection import train_test_split"
      ],
      "metadata": {
        "id": "Bn044ZqPNRLd"
      },
      "execution_count": 93,
      "outputs": []
    },
    {
      "cell_type": "code",
      "source": [
        "df.columns"
      ],
      "metadata": {
        "id": "2c7b8eL7Pvvi",
        "colab": {
          "base_uri": "https://localhost:8080/"
        },
        "outputId": "66ec8f09-c950-406a-a29e-ecb60da1a043"
      },
      "execution_count": 94,
      "outputs": [
        {
          "output_type": "execute_result",
          "data": {
            "text/plain": [
              "Index(['crime_rate', 'big_lots_percent', 'office_percent', 'charles_river',\n",
              "       'nitrous', 'avg_num_rooms', 'pre_1940', 'distance_to_city',\n",
              "       'highway_access', 'tax_rate', 'student_teacher_ratio', 'median_price'],\n",
              "      dtype='object')"
            ]
          },
          "metadata": {},
          "execution_count": 94
        }
      ]
    },
    {
      "cell_type": "code",
      "source": [
        "X = np.array(df[['crime_rate', 'avg_num_rooms']])\n",
        "y = np.array(df['median_price'])"
      ],
      "metadata": {
        "id": "JkhXdAIqPAAg"
      },
      "execution_count": 95,
      "outputs": []
    },
    {
      "cell_type": "code",
      "source": [
        "X"
      ],
      "metadata": {
        "id": "9tRNYGwnSjSD",
        "colab": {
          "base_uri": "https://localhost:8080/"
        },
        "outputId": "b3d996a2-56e8-4aae-d740-bed61d01f1b6"
      },
      "execution_count": 96,
      "outputs": [
        {
          "output_type": "execute_result",
          "data": {
            "text/plain": [
              "array([[6.3200e-03, 6.5750e+00],\n",
              "       [2.7310e-02, 6.4210e+00],\n",
              "       [2.7290e-02, 7.1850e+00],\n",
              "       ...,\n",
              "       [6.0760e-02, 6.9760e+00],\n",
              "       [1.0959e-01, 6.7940e+00],\n",
              "       [4.7410e-02, 6.0300e+00]])"
            ]
          },
          "metadata": {},
          "execution_count": 96
        }
      ]
    },
    {
      "cell_type": "code",
      "source": [
        "y"
      ],
      "metadata": {
        "id": "ibI5rXCgZUfn",
        "colab": {
          "base_uri": "https://localhost:8080/"
        },
        "outputId": "fe418d81-cefd-4b8c-ed23-3064b0ca9e76"
      },
      "execution_count": 97,
      "outputs": [
        {
          "output_type": "execute_result",
          "data": {
            "text/plain": [
              "array([24000, 21600, 34700, 33400, 36200, 28700, 22900, 27100, 16500,\n",
              "       18900, 15000, 18900, 21700, 20400, 18200, 19900, 23100, 17500,\n",
              "       20200, 18200, 13600, 19600, 15200, 14500, 15600, 13900, 16600,\n",
              "       14800, 18400, 21000, 12700, 14500, 13200, 13100, 13500, 18900,\n",
              "       20000, 21000, 24700, 30800, 34900, 26600, 25300, 24700, 21200,\n",
              "       19300, 20000, 16600, 14400, 19400, 19700, 20500, 25000, 23400,\n",
              "       18900, 35400, 24700, 31600, 23300, 19600, 18700, 16000, 22200,\n",
              "       25000, 33000, 23500, 19400, 22000, 17400, 20900, 24200, 21700,\n",
              "       22800, 23400, 24100, 21400, 20000, 20800, 21200, 20300, 28000,\n",
              "       23900, 24800, 22900, 23900, 26600, 22500, 22200, 23600, 28700,\n",
              "       22600, 22000, 22900, 25000, 20600, 28400, 21400, 38700, 43800,\n",
              "       33200, 27500, 26500, 18600, 19300, 20100, 19500, 19500, 20400,\n",
              "       19800, 19400, 21700, 22800, 18800, 18700, 18500, 18300, 21200,\n",
              "       19200, 20400, 19300, 22000, 20300, 20500, 17300, 18800, 21400,\n",
              "       15700, 16200, 18000, 14300, 19200, 19600, 23000, 18400, 15600,\n",
              "       18100, 17400, 17100, 13300, 17800, 14000, 14400, 13400, 15600,\n",
              "       11800, 13800, 15600, 14600, 17800, 15400, 21500, 19600, 15300,\n",
              "       19400, 17000, 15600, 13100, 41300, 24300, 23300, 27000, 50000,\n",
              "       50000, 50000, 22700, 25000, 50000, 23800, 23800, 22300, 17400,\n",
              "       19100, 23100, 23600, 22600, 29400, 23200, 24600, 29900, 37200,\n",
              "       39800, 36200, 37900, 32500, 26400, 29600, 50000, 32000, 29800,\n",
              "       34900, 37000, 30500, 36400, 31100, 29100, 50000, 33300, 30300,\n",
              "       34600, 34900, 32900, 24100, 42300, 48500, 50000, 22600, 24400,\n",
              "       22500, 24400, 20000, 21700, 19300, 22400, 28100, 23700, 25000,\n",
              "       23300, 28700, 21500, 23000, 26700, 21700, 27500, 30100, 44800,\n",
              "       50000, 37600, 31600, 46700, 31500, 24300, 31700, 41700, 48300,\n",
              "       29000, 24000, 25100, 31500, 23700, 23300, 22000, 20100, 22200,\n",
              "       23700, 17600, 18500, 24300, 20500, 24500, 26200, 24400, 24800,\n",
              "       29600, 42800, 21900, 20900, 44000, 50000, 36000, 30100, 33800,\n",
              "       43100, 48800, 31000, 36500, 22800, 30700, 50000, 43500, 20700,\n",
              "       21100, 25200, 24400, 35200, 32400, 32000, 33200, 33100, 29100,\n",
              "       35100, 45400, 35400, 46000, 50000, 32200, 22000, 20100, 23200,\n",
              "       22300, 24800, 28500, 37300, 27900, 23900, 21700, 28600, 27100,\n",
              "       20300, 22500, 29000, 24800, 22000, 26400, 33100, 36100, 28400,\n",
              "       33400, 28200, 22800, 20300, 16100, 22100, 19400, 21600, 23800,\n",
              "       16200, 17800, 19800, 23100, 21000, 23800, 23100, 20400, 18500,\n",
              "       25000, 24600, 23000, 22200, 19300, 22600, 19800, 17100, 19400,\n",
              "       22200, 20700, 21100, 19500, 18500, 20600, 19000, 18700, 32700,\n",
              "       16500, 23900, 31200, 17500, 17200, 23100, 24500, 26600, 22900,\n",
              "       24100, 18600, 30100, 18200, 20600, 17800, 21700, 22700, 22600,\n",
              "       25000, 19900, 20800, 16800, 21900, 27500, 21900, 23100, 50000,\n",
              "       50000, 50000, 50000, 50000, 13800, 13800, 15000, 13900, 13300,\n",
              "       13100, 10200, 10400, 10900, 11300, 12300,  8800,  7200, 10500,\n",
              "        7400, 10200, 11500, 15100, 23200,  9700, 13800, 12700, 13100,\n",
              "       12500,  8500,  5000,  6300,  5600,  7200, 12100,  8300,  8500,\n",
              "        5000, 11900, 27900, 17200, 27500, 15000, 17200, 17900, 16300,\n",
              "        7000,  7200,  7500, 10400,  8800,  8400, 16700, 14200, 20800,\n",
              "       13400, 11700,  8300, 10200, 10900, 11000,  9500, 14500, 14100,\n",
              "       16100, 14300, 11700, 13400,  9600,  8700,  8400, 12800, 10500,\n",
              "       17100, 18400, 15400, 10800, 11800, 14900, 12600, 14100, 13000,\n",
              "       13400, 15200, 16100, 17800, 14900, 14100, 12700, 13500, 14900,\n",
              "       20000, 16400, 17700, 19500, 20200, 21400, 19900, 19000, 19100,\n",
              "       19100, 20100, 19900, 19600, 23200, 29800, 13800, 13300, 16700,\n",
              "       12000, 14600, 21400, 23000, 23700, 25000, 21800, 20600, 21200,\n",
              "       19100, 20600, 15200,  7000,  8100, 13600, 20100, 21800, 24500,\n",
              "       23100, 19700, 18300, 21200, 17500, 16800, 22400, 20600, 23900,\n",
              "       22000, 11900])"
            ]
          },
          "metadata": {},
          "execution_count": 97
        }
      ]
    },
    {
      "cell_type": "code",
      "source": [
        "X_train,X_test,y_train,y_test = train_test_split(X,y,test_size=0.3,random_state=0)"
      ],
      "metadata": {
        "id": "q_ldXDLlpL24"
      },
      "execution_count": 98,
      "outputs": []
    },
    {
      "cell_type": "code",
      "source": [
        "regressor = LinearRegression()"
      ],
      "metadata": {
        "id": "SP5YR-svpL0x"
      },
      "execution_count": 99,
      "outputs": []
    },
    {
      "cell_type": "code",
      "source": [
        "regressor.fit(X_train,y_train)"
      ],
      "metadata": {
        "id": "GWhk9julpLyV",
        "colab": {
          "base_uri": "https://localhost:8080/"
        },
        "outputId": "4a6c6ad3-05fc-4101-83ef-8e1c407f39df"
      },
      "execution_count": 100,
      "outputs": [
        {
          "output_type": "execute_result",
          "data": {
            "text/plain": [
              "LinearRegression()"
            ]
          },
          "metadata": {},
          "execution_count": 100
        }
      ]
    },
    {
      "cell_type": "code",
      "source": [
        "df"
      ],
      "metadata": {
        "id": "4sKDdHXDpLv_",
        "colab": {
          "base_uri": "https://localhost:8080/",
          "height": 424
        },
        "outputId": "a7f694e5-a639-4515-d8a3-8a7d422bbd3e"
      },
      "execution_count": 101,
      "outputs": [
        {
          "output_type": "execute_result",
          "data": {
            "text/plain": [
              "     crime_rate  big_lots_percent  office_percent  charles_river  nitrous  \\\n",
              "0       0.00632              18.0            2.31              0    0.538   \n",
              "1       0.02731               0.0            7.07              0    0.469   \n",
              "2       0.02729               0.0            7.07              0    0.469   \n",
              "3       0.03237               0.0            2.18              0    0.458   \n",
              "4       0.06905               0.0            2.18              0    0.458   \n",
              "..          ...               ...             ...            ...      ...   \n",
              "501     0.06263               0.0           11.93              0    0.573   \n",
              "502     0.04527               0.0           11.93              0    0.573   \n",
              "503     0.06076               0.0           11.93              0    0.573   \n",
              "504     0.10959               0.0           11.93              0    0.573   \n",
              "505     0.04741               0.0           11.93              0    0.573   \n",
              "\n",
              "     avg_num_rooms  pre_1940  distance_to_city  highway_access  tax_rate  \\\n",
              "0            6.575      65.2            4.0900               1       296   \n",
              "1            6.421      78.9            4.9671               2       242   \n",
              "2            7.185      61.1            4.9671               2       242   \n",
              "3            6.998      45.8            6.0622               3       222   \n",
              "4            7.147      54.2            6.0622               3       222   \n",
              "..             ...       ...               ...             ...       ...   \n",
              "501          6.593      69.1            2.4786               1       273   \n",
              "502          6.120      76.7            2.2875               1       273   \n",
              "503          6.976      91.0            2.1675               1       273   \n",
              "504          6.794      89.3            2.3889               1       273   \n",
              "505          6.030      80.8            2.5050               1       273   \n",
              "\n",
              "     student_teacher_ratio  median_price  \n",
              "0                     15.3         24000  \n",
              "1                     17.8         21600  \n",
              "2                     17.8         34700  \n",
              "3                     18.7         33400  \n",
              "4                     18.7         36200  \n",
              "..                     ...           ...  \n",
              "501                   21.0         22400  \n",
              "502                   21.0         20600  \n",
              "503                   21.0         23900  \n",
              "504                   21.0         22000  \n",
              "505                   21.0         11900  \n",
              "\n",
              "[506 rows x 12 columns]"
            ],
            "text/html": [
              "\n",
              "  <div id=\"df-994cfde3-a233-4ccb-895d-115fd94e8d72\">\n",
              "    <div class=\"colab-df-container\">\n",
              "      <div>\n",
              "<style scoped>\n",
              "    .dataframe tbody tr th:only-of-type {\n",
              "        vertical-align: middle;\n",
              "    }\n",
              "\n",
              "    .dataframe tbody tr th {\n",
              "        vertical-align: top;\n",
              "    }\n",
              "\n",
              "    .dataframe thead th {\n",
              "        text-align: right;\n",
              "    }\n",
              "</style>\n",
              "<table border=\"1\" class=\"dataframe\">\n",
              "  <thead>\n",
              "    <tr style=\"text-align: right;\">\n",
              "      <th></th>\n",
              "      <th>crime_rate</th>\n",
              "      <th>big_lots_percent</th>\n",
              "      <th>office_percent</th>\n",
              "      <th>charles_river</th>\n",
              "      <th>nitrous</th>\n",
              "      <th>avg_num_rooms</th>\n",
              "      <th>pre_1940</th>\n",
              "      <th>distance_to_city</th>\n",
              "      <th>highway_access</th>\n",
              "      <th>tax_rate</th>\n",
              "      <th>student_teacher_ratio</th>\n",
              "      <th>median_price</th>\n",
              "    </tr>\n",
              "  </thead>\n",
              "  <tbody>\n",
              "    <tr>\n",
              "      <th>0</th>\n",
              "      <td>0.00632</td>\n",
              "      <td>18.0</td>\n",
              "      <td>2.31</td>\n",
              "      <td>0</td>\n",
              "      <td>0.538</td>\n",
              "      <td>6.575</td>\n",
              "      <td>65.2</td>\n",
              "      <td>4.0900</td>\n",
              "      <td>1</td>\n",
              "      <td>296</td>\n",
              "      <td>15.3</td>\n",
              "      <td>24000</td>\n",
              "    </tr>\n",
              "    <tr>\n",
              "      <th>1</th>\n",
              "      <td>0.02731</td>\n",
              "      <td>0.0</td>\n",
              "      <td>7.07</td>\n",
              "      <td>0</td>\n",
              "      <td>0.469</td>\n",
              "      <td>6.421</td>\n",
              "      <td>78.9</td>\n",
              "      <td>4.9671</td>\n",
              "      <td>2</td>\n",
              "      <td>242</td>\n",
              "      <td>17.8</td>\n",
              "      <td>21600</td>\n",
              "    </tr>\n",
              "    <tr>\n",
              "      <th>2</th>\n",
              "      <td>0.02729</td>\n",
              "      <td>0.0</td>\n",
              "      <td>7.07</td>\n",
              "      <td>0</td>\n",
              "      <td>0.469</td>\n",
              "      <td>7.185</td>\n",
              "      <td>61.1</td>\n",
              "      <td>4.9671</td>\n",
              "      <td>2</td>\n",
              "      <td>242</td>\n",
              "      <td>17.8</td>\n",
              "      <td>34700</td>\n",
              "    </tr>\n",
              "    <tr>\n",
              "      <th>3</th>\n",
              "      <td>0.03237</td>\n",
              "      <td>0.0</td>\n",
              "      <td>2.18</td>\n",
              "      <td>0</td>\n",
              "      <td>0.458</td>\n",
              "      <td>6.998</td>\n",
              "      <td>45.8</td>\n",
              "      <td>6.0622</td>\n",
              "      <td>3</td>\n",
              "      <td>222</td>\n",
              "      <td>18.7</td>\n",
              "      <td>33400</td>\n",
              "    </tr>\n",
              "    <tr>\n",
              "      <th>4</th>\n",
              "      <td>0.06905</td>\n",
              "      <td>0.0</td>\n",
              "      <td>2.18</td>\n",
              "      <td>0</td>\n",
              "      <td>0.458</td>\n",
              "      <td>7.147</td>\n",
              "      <td>54.2</td>\n",
              "      <td>6.0622</td>\n",
              "      <td>3</td>\n",
              "      <td>222</td>\n",
              "      <td>18.7</td>\n",
              "      <td>36200</td>\n",
              "    </tr>\n",
              "    <tr>\n",
              "      <th>...</th>\n",
              "      <td>...</td>\n",
              "      <td>...</td>\n",
              "      <td>...</td>\n",
              "      <td>...</td>\n",
              "      <td>...</td>\n",
              "      <td>...</td>\n",
              "      <td>...</td>\n",
              "      <td>...</td>\n",
              "      <td>...</td>\n",
              "      <td>...</td>\n",
              "      <td>...</td>\n",
              "      <td>...</td>\n",
              "    </tr>\n",
              "    <tr>\n",
              "      <th>501</th>\n",
              "      <td>0.06263</td>\n",
              "      <td>0.0</td>\n",
              "      <td>11.93</td>\n",
              "      <td>0</td>\n",
              "      <td>0.573</td>\n",
              "      <td>6.593</td>\n",
              "      <td>69.1</td>\n",
              "      <td>2.4786</td>\n",
              "      <td>1</td>\n",
              "      <td>273</td>\n",
              "      <td>21.0</td>\n",
              "      <td>22400</td>\n",
              "    </tr>\n",
              "    <tr>\n",
              "      <th>502</th>\n",
              "      <td>0.04527</td>\n",
              "      <td>0.0</td>\n",
              "      <td>11.93</td>\n",
              "      <td>0</td>\n",
              "      <td>0.573</td>\n",
              "      <td>6.120</td>\n",
              "      <td>76.7</td>\n",
              "      <td>2.2875</td>\n",
              "      <td>1</td>\n",
              "      <td>273</td>\n",
              "      <td>21.0</td>\n",
              "      <td>20600</td>\n",
              "    </tr>\n",
              "    <tr>\n",
              "      <th>503</th>\n",
              "      <td>0.06076</td>\n",
              "      <td>0.0</td>\n",
              "      <td>11.93</td>\n",
              "      <td>0</td>\n",
              "      <td>0.573</td>\n",
              "      <td>6.976</td>\n",
              "      <td>91.0</td>\n",
              "      <td>2.1675</td>\n",
              "      <td>1</td>\n",
              "      <td>273</td>\n",
              "      <td>21.0</td>\n",
              "      <td>23900</td>\n",
              "    </tr>\n",
              "    <tr>\n",
              "      <th>504</th>\n",
              "      <td>0.10959</td>\n",
              "      <td>0.0</td>\n",
              "      <td>11.93</td>\n",
              "      <td>0</td>\n",
              "      <td>0.573</td>\n",
              "      <td>6.794</td>\n",
              "      <td>89.3</td>\n",
              "      <td>2.3889</td>\n",
              "      <td>1</td>\n",
              "      <td>273</td>\n",
              "      <td>21.0</td>\n",
              "      <td>22000</td>\n",
              "    </tr>\n",
              "    <tr>\n",
              "      <th>505</th>\n",
              "      <td>0.04741</td>\n",
              "      <td>0.0</td>\n",
              "      <td>11.93</td>\n",
              "      <td>0</td>\n",
              "      <td>0.573</td>\n",
              "      <td>6.030</td>\n",
              "      <td>80.8</td>\n",
              "      <td>2.5050</td>\n",
              "      <td>1</td>\n",
              "      <td>273</td>\n",
              "      <td>21.0</td>\n",
              "      <td>11900</td>\n",
              "    </tr>\n",
              "  </tbody>\n",
              "</table>\n",
              "<p>506 rows × 12 columns</p>\n",
              "</div>\n",
              "      <button class=\"colab-df-convert\" onclick=\"convertToInteractive('df-994cfde3-a233-4ccb-895d-115fd94e8d72')\"\n",
              "              title=\"Convert this dataframe to an interactive table.\"\n",
              "              style=\"display:none;\">\n",
              "        \n",
              "  <svg xmlns=\"http://www.w3.org/2000/svg\" height=\"24px\"viewBox=\"0 0 24 24\"\n",
              "       width=\"24px\">\n",
              "    <path d=\"M0 0h24v24H0V0z\" fill=\"none\"/>\n",
              "    <path d=\"M18.56 5.44l.94 2.06.94-2.06 2.06-.94-2.06-.94-.94-2.06-.94 2.06-2.06.94zm-11 1L8.5 8.5l.94-2.06 2.06-.94-2.06-.94L8.5 2.5l-.94 2.06-2.06.94zm10 10l.94 2.06.94-2.06 2.06-.94-2.06-.94-.94-2.06-.94 2.06-2.06.94z\"/><path d=\"M17.41 7.96l-1.37-1.37c-.4-.4-.92-.59-1.43-.59-.52 0-1.04.2-1.43.59L10.3 9.45l-7.72 7.72c-.78.78-.78 2.05 0 2.83L4 21.41c.39.39.9.59 1.41.59.51 0 1.02-.2 1.41-.59l7.78-7.78 2.81-2.81c.8-.78.8-2.07 0-2.86zM5.41 20L4 18.59l7.72-7.72 1.47 1.35L5.41 20z\"/>\n",
              "  </svg>\n",
              "      </button>\n",
              "      \n",
              "  <style>\n",
              "    .colab-df-container {\n",
              "      display:flex;\n",
              "      flex-wrap:wrap;\n",
              "      gap: 12px;\n",
              "    }\n",
              "\n",
              "    .colab-df-convert {\n",
              "      background-color: #E8F0FE;\n",
              "      border: none;\n",
              "      border-radius: 50%;\n",
              "      cursor: pointer;\n",
              "      display: none;\n",
              "      fill: #1967D2;\n",
              "      height: 32px;\n",
              "      padding: 0 0 0 0;\n",
              "      width: 32px;\n",
              "    }\n",
              "\n",
              "    .colab-df-convert:hover {\n",
              "      background-color: #E2EBFA;\n",
              "      box-shadow: 0px 1px 2px rgba(60, 64, 67, 0.3), 0px 1px 3px 1px rgba(60, 64, 67, 0.15);\n",
              "      fill: #174EA6;\n",
              "    }\n",
              "\n",
              "    [theme=dark] .colab-df-convert {\n",
              "      background-color: #3B4455;\n",
              "      fill: #D2E3FC;\n",
              "    }\n",
              "\n",
              "    [theme=dark] .colab-df-convert:hover {\n",
              "      background-color: #434B5C;\n",
              "      box-shadow: 0px 1px 3px 1px rgba(0, 0, 0, 0.15);\n",
              "      filter: drop-shadow(0px 1px 2px rgba(0, 0, 0, 0.3));\n",
              "      fill: #FFFFFF;\n",
              "    }\n",
              "  </style>\n",
              "\n",
              "      <script>\n",
              "        const buttonEl =\n",
              "          document.querySelector('#df-994cfde3-a233-4ccb-895d-115fd94e8d72 button.colab-df-convert');\n",
              "        buttonEl.style.display =\n",
              "          google.colab.kernel.accessAllowed ? 'block' : 'none';\n",
              "\n",
              "        async function convertToInteractive(key) {\n",
              "          const element = document.querySelector('#df-994cfde3-a233-4ccb-895d-115fd94e8d72');\n",
              "          const dataTable =\n",
              "            await google.colab.kernel.invokeFunction('convertToInteractive',\n",
              "                                                     [key], {});\n",
              "          if (!dataTable) return;\n",
              "\n",
              "          const docLinkHtml = 'Like what you see? Visit the ' +\n",
              "            '<a target=\"_blank\" href=https://colab.research.google.com/notebooks/data_table.ipynb>data table notebook</a>'\n",
              "            + ' to learn more about interactive tables.';\n",
              "          element.innerHTML = '';\n",
              "          dataTable['output_type'] = 'display_data';\n",
              "          await google.colab.output.renderOutput(dataTable, element);\n",
              "          const docLink = document.createElement('div');\n",
              "          docLink.innerHTML = docLinkHtml;\n",
              "          element.appendChild(docLink);\n",
              "        }\n",
              "      </script>\n",
              "    </div>\n",
              "  </div>\n",
              "  "
            ]
          },
          "metadata": {},
          "execution_count": 101
        }
      ]
    },
    {
      "cell_type": "code",
      "source": [
        "df.describe()"
      ],
      "metadata": {
        "id": "ZtEEyXBtprm2",
        "colab": {
          "base_uri": "https://localhost:8080/",
          "height": 300
        },
        "outputId": "df3b3f02-e7be-44a3-a2b1-e85f1a6ab487"
      },
      "execution_count": 102,
      "outputs": [
        {
          "output_type": "execute_result",
          "data": {
            "text/plain": [
              "       crime_rate  big_lots_percent  office_percent  charles_river  \\\n",
              "count  506.000000        506.000000      506.000000     506.000000   \n",
              "mean     3.613524         11.363636       11.136779       0.069170   \n",
              "std      8.601545         23.322453        6.860353       0.253994   \n",
              "min      0.006320          0.000000        0.460000       0.000000   \n",
              "25%      0.082045          0.000000        5.190000       0.000000   \n",
              "50%      0.256510          0.000000        9.690000       0.000000   \n",
              "75%      3.677083         12.500000       18.100000       0.000000   \n",
              "max     88.976200        100.000000       27.740000       1.000000   \n",
              "\n",
              "          nitrous  avg_num_rooms    pre_1940  distance_to_city  \\\n",
              "count  506.000000     506.000000  506.000000        506.000000   \n",
              "mean     0.554695       6.284634   68.574901          3.795043   \n",
              "std      0.115878       0.702617   28.148861          2.105710   \n",
              "min      0.385000       3.561000    2.900000          1.129600   \n",
              "25%      0.449000       5.885500   45.025000          2.100175   \n",
              "50%      0.538000       6.208500   77.500000          3.207450   \n",
              "75%      0.624000       6.623500   94.075000          5.188425   \n",
              "max      0.871000       8.780000  100.000000         12.126500   \n",
              "\n",
              "       highway_access    tax_rate  student_teacher_ratio  median_price  \n",
              "count      506.000000  506.000000             506.000000    506.000000  \n",
              "mean         9.549407  408.237154              18.455534  22532.806324  \n",
              "std          8.707259  168.537116               2.164946   9197.104087  \n",
              "min          1.000000  187.000000              12.600000   5000.000000  \n",
              "25%          4.000000  279.000000              17.400000  17025.000000  \n",
              "50%          5.000000  330.000000              19.050000  21200.000000  \n",
              "75%         24.000000  666.000000              20.200000  25000.000000  \n",
              "max         24.000000  711.000000              22.000000  50000.000000  "
            ],
            "text/html": [
              "\n",
              "  <div id=\"df-d2151049-3ed2-4054-b437-8e2fc5a90fc4\">\n",
              "    <div class=\"colab-df-container\">\n",
              "      <div>\n",
              "<style scoped>\n",
              "    .dataframe tbody tr th:only-of-type {\n",
              "        vertical-align: middle;\n",
              "    }\n",
              "\n",
              "    .dataframe tbody tr th {\n",
              "        vertical-align: top;\n",
              "    }\n",
              "\n",
              "    .dataframe thead th {\n",
              "        text-align: right;\n",
              "    }\n",
              "</style>\n",
              "<table border=\"1\" class=\"dataframe\">\n",
              "  <thead>\n",
              "    <tr style=\"text-align: right;\">\n",
              "      <th></th>\n",
              "      <th>crime_rate</th>\n",
              "      <th>big_lots_percent</th>\n",
              "      <th>office_percent</th>\n",
              "      <th>charles_river</th>\n",
              "      <th>nitrous</th>\n",
              "      <th>avg_num_rooms</th>\n",
              "      <th>pre_1940</th>\n",
              "      <th>distance_to_city</th>\n",
              "      <th>highway_access</th>\n",
              "      <th>tax_rate</th>\n",
              "      <th>student_teacher_ratio</th>\n",
              "      <th>median_price</th>\n",
              "    </tr>\n",
              "  </thead>\n",
              "  <tbody>\n",
              "    <tr>\n",
              "      <th>count</th>\n",
              "      <td>506.000000</td>\n",
              "      <td>506.000000</td>\n",
              "      <td>506.000000</td>\n",
              "      <td>506.000000</td>\n",
              "      <td>506.000000</td>\n",
              "      <td>506.000000</td>\n",
              "      <td>506.000000</td>\n",
              "      <td>506.000000</td>\n",
              "      <td>506.000000</td>\n",
              "      <td>506.000000</td>\n",
              "      <td>506.000000</td>\n",
              "      <td>506.000000</td>\n",
              "    </tr>\n",
              "    <tr>\n",
              "      <th>mean</th>\n",
              "      <td>3.613524</td>\n",
              "      <td>11.363636</td>\n",
              "      <td>11.136779</td>\n",
              "      <td>0.069170</td>\n",
              "      <td>0.554695</td>\n",
              "      <td>6.284634</td>\n",
              "      <td>68.574901</td>\n",
              "      <td>3.795043</td>\n",
              "      <td>9.549407</td>\n",
              "      <td>408.237154</td>\n",
              "      <td>18.455534</td>\n",
              "      <td>22532.806324</td>\n",
              "    </tr>\n",
              "    <tr>\n",
              "      <th>std</th>\n",
              "      <td>8.601545</td>\n",
              "      <td>23.322453</td>\n",
              "      <td>6.860353</td>\n",
              "      <td>0.253994</td>\n",
              "      <td>0.115878</td>\n",
              "      <td>0.702617</td>\n",
              "      <td>28.148861</td>\n",
              "      <td>2.105710</td>\n",
              "      <td>8.707259</td>\n",
              "      <td>168.537116</td>\n",
              "      <td>2.164946</td>\n",
              "      <td>9197.104087</td>\n",
              "    </tr>\n",
              "    <tr>\n",
              "      <th>min</th>\n",
              "      <td>0.006320</td>\n",
              "      <td>0.000000</td>\n",
              "      <td>0.460000</td>\n",
              "      <td>0.000000</td>\n",
              "      <td>0.385000</td>\n",
              "      <td>3.561000</td>\n",
              "      <td>2.900000</td>\n",
              "      <td>1.129600</td>\n",
              "      <td>1.000000</td>\n",
              "      <td>187.000000</td>\n",
              "      <td>12.600000</td>\n",
              "      <td>5000.000000</td>\n",
              "    </tr>\n",
              "    <tr>\n",
              "      <th>25%</th>\n",
              "      <td>0.082045</td>\n",
              "      <td>0.000000</td>\n",
              "      <td>5.190000</td>\n",
              "      <td>0.000000</td>\n",
              "      <td>0.449000</td>\n",
              "      <td>5.885500</td>\n",
              "      <td>45.025000</td>\n",
              "      <td>2.100175</td>\n",
              "      <td>4.000000</td>\n",
              "      <td>279.000000</td>\n",
              "      <td>17.400000</td>\n",
              "      <td>17025.000000</td>\n",
              "    </tr>\n",
              "    <tr>\n",
              "      <th>50%</th>\n",
              "      <td>0.256510</td>\n",
              "      <td>0.000000</td>\n",
              "      <td>9.690000</td>\n",
              "      <td>0.000000</td>\n",
              "      <td>0.538000</td>\n",
              "      <td>6.208500</td>\n",
              "      <td>77.500000</td>\n",
              "      <td>3.207450</td>\n",
              "      <td>5.000000</td>\n",
              "      <td>330.000000</td>\n",
              "      <td>19.050000</td>\n",
              "      <td>21200.000000</td>\n",
              "    </tr>\n",
              "    <tr>\n",
              "      <th>75%</th>\n",
              "      <td>3.677083</td>\n",
              "      <td>12.500000</td>\n",
              "      <td>18.100000</td>\n",
              "      <td>0.000000</td>\n",
              "      <td>0.624000</td>\n",
              "      <td>6.623500</td>\n",
              "      <td>94.075000</td>\n",
              "      <td>5.188425</td>\n",
              "      <td>24.000000</td>\n",
              "      <td>666.000000</td>\n",
              "      <td>20.200000</td>\n",
              "      <td>25000.000000</td>\n",
              "    </tr>\n",
              "    <tr>\n",
              "      <th>max</th>\n",
              "      <td>88.976200</td>\n",
              "      <td>100.000000</td>\n",
              "      <td>27.740000</td>\n",
              "      <td>1.000000</td>\n",
              "      <td>0.871000</td>\n",
              "      <td>8.780000</td>\n",
              "      <td>100.000000</td>\n",
              "      <td>12.126500</td>\n",
              "      <td>24.000000</td>\n",
              "      <td>711.000000</td>\n",
              "      <td>22.000000</td>\n",
              "      <td>50000.000000</td>\n",
              "    </tr>\n",
              "  </tbody>\n",
              "</table>\n",
              "</div>\n",
              "      <button class=\"colab-df-convert\" onclick=\"convertToInteractive('df-d2151049-3ed2-4054-b437-8e2fc5a90fc4')\"\n",
              "              title=\"Convert this dataframe to an interactive table.\"\n",
              "              style=\"display:none;\">\n",
              "        \n",
              "  <svg xmlns=\"http://www.w3.org/2000/svg\" height=\"24px\"viewBox=\"0 0 24 24\"\n",
              "       width=\"24px\">\n",
              "    <path d=\"M0 0h24v24H0V0z\" fill=\"none\"/>\n",
              "    <path d=\"M18.56 5.44l.94 2.06.94-2.06 2.06-.94-2.06-.94-.94-2.06-.94 2.06-2.06.94zm-11 1L8.5 8.5l.94-2.06 2.06-.94-2.06-.94L8.5 2.5l-.94 2.06-2.06.94zm10 10l.94 2.06.94-2.06 2.06-.94-2.06-.94-.94-2.06-.94 2.06-2.06.94z\"/><path d=\"M17.41 7.96l-1.37-1.37c-.4-.4-.92-.59-1.43-.59-.52 0-1.04.2-1.43.59L10.3 9.45l-7.72 7.72c-.78.78-.78 2.05 0 2.83L4 21.41c.39.39.9.59 1.41.59.51 0 1.02-.2 1.41-.59l7.78-7.78 2.81-2.81c.8-.78.8-2.07 0-2.86zM5.41 20L4 18.59l7.72-7.72 1.47 1.35L5.41 20z\"/>\n",
              "  </svg>\n",
              "      </button>\n",
              "      \n",
              "  <style>\n",
              "    .colab-df-container {\n",
              "      display:flex;\n",
              "      flex-wrap:wrap;\n",
              "      gap: 12px;\n",
              "    }\n",
              "\n",
              "    .colab-df-convert {\n",
              "      background-color: #E8F0FE;\n",
              "      border: none;\n",
              "      border-radius: 50%;\n",
              "      cursor: pointer;\n",
              "      display: none;\n",
              "      fill: #1967D2;\n",
              "      height: 32px;\n",
              "      padding: 0 0 0 0;\n",
              "      width: 32px;\n",
              "    }\n",
              "\n",
              "    .colab-df-convert:hover {\n",
              "      background-color: #E2EBFA;\n",
              "      box-shadow: 0px 1px 2px rgba(60, 64, 67, 0.3), 0px 1px 3px 1px rgba(60, 64, 67, 0.15);\n",
              "      fill: #174EA6;\n",
              "    }\n",
              "\n",
              "    [theme=dark] .colab-df-convert {\n",
              "      background-color: #3B4455;\n",
              "      fill: #D2E3FC;\n",
              "    }\n",
              "\n",
              "    [theme=dark] .colab-df-convert:hover {\n",
              "      background-color: #434B5C;\n",
              "      box-shadow: 0px 1px 3px 1px rgba(0, 0, 0, 0.15);\n",
              "      filter: drop-shadow(0px 1px 2px rgba(0, 0, 0, 0.3));\n",
              "      fill: #FFFFFF;\n",
              "    }\n",
              "  </style>\n",
              "\n",
              "      <script>\n",
              "        const buttonEl =\n",
              "          document.querySelector('#df-d2151049-3ed2-4054-b437-8e2fc5a90fc4 button.colab-df-convert');\n",
              "        buttonEl.style.display =\n",
              "          google.colab.kernel.accessAllowed ? 'block' : 'none';\n",
              "\n",
              "        async function convertToInteractive(key) {\n",
              "          const element = document.querySelector('#df-d2151049-3ed2-4054-b437-8e2fc5a90fc4');\n",
              "          const dataTable =\n",
              "            await google.colab.kernel.invokeFunction('convertToInteractive',\n",
              "                                                     [key], {});\n",
              "          if (!dataTable) return;\n",
              "\n",
              "          const docLinkHtml = 'Like what you see? Visit the ' +\n",
              "            '<a target=\"_blank\" href=https://colab.research.google.com/notebooks/data_table.ipynb>data table notebook</a>'\n",
              "            + ' to learn more about interactive tables.';\n",
              "          element.innerHTML = '';\n",
              "          dataTable['output_type'] = 'display_data';\n",
              "          await google.colab.output.renderOutput(dataTable, element);\n",
              "          const docLink = document.createElement('div');\n",
              "          docLink.innerHTML = docLinkHtml;\n",
              "          element.appendChild(docLink);\n",
              "        }\n",
              "      </script>\n",
              "    </div>\n",
              "  </div>\n",
              "  "
            ]
          },
          "metadata": {},
          "execution_count": 102
        }
      ]
    },
    {
      "cell_type": "code",
      "source": [
        "crime_rate = 3.613524\n",
        "room_num = 6.284634"
      ],
      "metadata": {
        "id": "n4PSk8y9pLtq"
      },
      "execution_count": 103,
      "outputs": []
    },
    {
      "cell_type": "code",
      "source": [
        "price = regressor.predict([[crime_rate, room_num]])"
      ],
      "metadata": {
        "id": "64oCq0pLpLrT"
      },
      "execution_count": 104,
      "outputs": []
    },
    {
      "cell_type": "markdown",
      "source": [
        "Very accuarate model..."
      ],
      "metadata": {
        "id": "ZaAzqlF8tsB_"
      }
    },
    {
      "cell_type": "code",
      "source": [
        "print(\"House in an area with %d crime rate and %d bedrooms cost about $%d\" % (crime_rate, room_num, price))"
      ],
      "metadata": {
        "colab": {
          "base_uri": "https://localhost:8080/"
        },
        "id": "BoV1zegcpLo0",
        "outputId": "1121c9bd-54cb-402b-c041-c3f46abe519c"
      },
      "execution_count": 105,
      "outputs": [
        {
          "output_type": "stream",
          "name": "stdout",
          "text": [
            "House in an area with 3 crime rate and 6 bedrooms cost about $22465\n"
          ]
        }
      ]
    },
    {
      "cell_type": "markdown",
      "source": [
        "### Second Data Split"
      ],
      "metadata": {
        "id": "NQDXX0qaqlY_"
      }
    },
    {
      "cell_type": "code",
      "source": [
        "X1 = np.array(df[['crime_rate', 'office_percent']])\n",
        "y1 = np.array(df['median_price'])"
      ],
      "metadata": {
        "id": "e700jcGLquGU"
      },
      "execution_count": 106,
      "outputs": []
    },
    {
      "cell_type": "code",
      "source": [
        "X1_train,X1_test,y1_train,y1_test = train_test_split(X1,y1,test_size=0.1,random_state=0)"
      ],
      "metadata": {
        "id": "WCwAaZuaquCD"
      },
      "execution_count": 107,
      "outputs": []
    },
    {
      "cell_type": "code",
      "source": [
        "regressor1 = LinearRegression()"
      ],
      "metadata": {
        "id": "N6yJhU6Uqt_i"
      },
      "execution_count": 108,
      "outputs": []
    },
    {
      "cell_type": "code",
      "source": [
        "regressor1.fit(X1_train,y1_train)"
      ],
      "metadata": {
        "id": "cZ_p5r_dqt8d",
        "colab": {
          "base_uri": "https://localhost:8080/"
        },
        "outputId": "84a6404d-0cc0-4311-9085-aead0ba9e3ef"
      },
      "execution_count": 109,
      "outputs": [
        {
          "output_type": "execute_result",
          "data": {
            "text/plain": [
              "LinearRegression()"
            ]
          },
          "metadata": {},
          "execution_count": 109
        }
      ]
    },
    {
      "cell_type": "code",
      "source": [
        "df.describe()"
      ],
      "metadata": {
        "id": "HI5J8_dGsOJd",
        "colab": {
          "base_uri": "https://localhost:8080/",
          "height": 300
        },
        "outputId": "ce5c32fe-5a7b-400f-f18c-c865ea4462e1"
      },
      "execution_count": 110,
      "outputs": [
        {
          "output_type": "execute_result",
          "data": {
            "text/plain": [
              "       crime_rate  big_lots_percent  office_percent  charles_river  \\\n",
              "count  506.000000        506.000000      506.000000     506.000000   \n",
              "mean     3.613524         11.363636       11.136779       0.069170   \n",
              "std      8.601545         23.322453        6.860353       0.253994   \n",
              "min      0.006320          0.000000        0.460000       0.000000   \n",
              "25%      0.082045          0.000000        5.190000       0.000000   \n",
              "50%      0.256510          0.000000        9.690000       0.000000   \n",
              "75%      3.677083         12.500000       18.100000       0.000000   \n",
              "max     88.976200        100.000000       27.740000       1.000000   \n",
              "\n",
              "          nitrous  avg_num_rooms    pre_1940  distance_to_city  \\\n",
              "count  506.000000     506.000000  506.000000        506.000000   \n",
              "mean     0.554695       6.284634   68.574901          3.795043   \n",
              "std      0.115878       0.702617   28.148861          2.105710   \n",
              "min      0.385000       3.561000    2.900000          1.129600   \n",
              "25%      0.449000       5.885500   45.025000          2.100175   \n",
              "50%      0.538000       6.208500   77.500000          3.207450   \n",
              "75%      0.624000       6.623500   94.075000          5.188425   \n",
              "max      0.871000       8.780000  100.000000         12.126500   \n",
              "\n",
              "       highway_access    tax_rate  student_teacher_ratio  median_price  \n",
              "count      506.000000  506.000000             506.000000    506.000000  \n",
              "mean         9.549407  408.237154              18.455534  22532.806324  \n",
              "std          8.707259  168.537116               2.164946   9197.104087  \n",
              "min          1.000000  187.000000              12.600000   5000.000000  \n",
              "25%          4.000000  279.000000              17.400000  17025.000000  \n",
              "50%          5.000000  330.000000              19.050000  21200.000000  \n",
              "75%         24.000000  666.000000              20.200000  25000.000000  \n",
              "max         24.000000  711.000000              22.000000  50000.000000  "
            ],
            "text/html": [
              "\n",
              "  <div id=\"df-02ff0909-9ae6-43d0-bb80-9925610c5b6c\">\n",
              "    <div class=\"colab-df-container\">\n",
              "      <div>\n",
              "<style scoped>\n",
              "    .dataframe tbody tr th:only-of-type {\n",
              "        vertical-align: middle;\n",
              "    }\n",
              "\n",
              "    .dataframe tbody tr th {\n",
              "        vertical-align: top;\n",
              "    }\n",
              "\n",
              "    .dataframe thead th {\n",
              "        text-align: right;\n",
              "    }\n",
              "</style>\n",
              "<table border=\"1\" class=\"dataframe\">\n",
              "  <thead>\n",
              "    <tr style=\"text-align: right;\">\n",
              "      <th></th>\n",
              "      <th>crime_rate</th>\n",
              "      <th>big_lots_percent</th>\n",
              "      <th>office_percent</th>\n",
              "      <th>charles_river</th>\n",
              "      <th>nitrous</th>\n",
              "      <th>avg_num_rooms</th>\n",
              "      <th>pre_1940</th>\n",
              "      <th>distance_to_city</th>\n",
              "      <th>highway_access</th>\n",
              "      <th>tax_rate</th>\n",
              "      <th>student_teacher_ratio</th>\n",
              "      <th>median_price</th>\n",
              "    </tr>\n",
              "  </thead>\n",
              "  <tbody>\n",
              "    <tr>\n",
              "      <th>count</th>\n",
              "      <td>506.000000</td>\n",
              "      <td>506.000000</td>\n",
              "      <td>506.000000</td>\n",
              "      <td>506.000000</td>\n",
              "      <td>506.000000</td>\n",
              "      <td>506.000000</td>\n",
              "      <td>506.000000</td>\n",
              "      <td>506.000000</td>\n",
              "      <td>506.000000</td>\n",
              "      <td>506.000000</td>\n",
              "      <td>506.000000</td>\n",
              "      <td>506.000000</td>\n",
              "    </tr>\n",
              "    <tr>\n",
              "      <th>mean</th>\n",
              "      <td>3.613524</td>\n",
              "      <td>11.363636</td>\n",
              "      <td>11.136779</td>\n",
              "      <td>0.069170</td>\n",
              "      <td>0.554695</td>\n",
              "      <td>6.284634</td>\n",
              "      <td>68.574901</td>\n",
              "      <td>3.795043</td>\n",
              "      <td>9.549407</td>\n",
              "      <td>408.237154</td>\n",
              "      <td>18.455534</td>\n",
              "      <td>22532.806324</td>\n",
              "    </tr>\n",
              "    <tr>\n",
              "      <th>std</th>\n",
              "      <td>8.601545</td>\n",
              "      <td>23.322453</td>\n",
              "      <td>6.860353</td>\n",
              "      <td>0.253994</td>\n",
              "      <td>0.115878</td>\n",
              "      <td>0.702617</td>\n",
              "      <td>28.148861</td>\n",
              "      <td>2.105710</td>\n",
              "      <td>8.707259</td>\n",
              "      <td>168.537116</td>\n",
              "      <td>2.164946</td>\n",
              "      <td>9197.104087</td>\n",
              "    </tr>\n",
              "    <tr>\n",
              "      <th>min</th>\n",
              "      <td>0.006320</td>\n",
              "      <td>0.000000</td>\n",
              "      <td>0.460000</td>\n",
              "      <td>0.000000</td>\n",
              "      <td>0.385000</td>\n",
              "      <td>3.561000</td>\n",
              "      <td>2.900000</td>\n",
              "      <td>1.129600</td>\n",
              "      <td>1.000000</td>\n",
              "      <td>187.000000</td>\n",
              "      <td>12.600000</td>\n",
              "      <td>5000.000000</td>\n",
              "    </tr>\n",
              "    <tr>\n",
              "      <th>25%</th>\n",
              "      <td>0.082045</td>\n",
              "      <td>0.000000</td>\n",
              "      <td>5.190000</td>\n",
              "      <td>0.000000</td>\n",
              "      <td>0.449000</td>\n",
              "      <td>5.885500</td>\n",
              "      <td>45.025000</td>\n",
              "      <td>2.100175</td>\n",
              "      <td>4.000000</td>\n",
              "      <td>279.000000</td>\n",
              "      <td>17.400000</td>\n",
              "      <td>17025.000000</td>\n",
              "    </tr>\n",
              "    <tr>\n",
              "      <th>50%</th>\n",
              "      <td>0.256510</td>\n",
              "      <td>0.000000</td>\n",
              "      <td>9.690000</td>\n",
              "      <td>0.000000</td>\n",
              "      <td>0.538000</td>\n",
              "      <td>6.208500</td>\n",
              "      <td>77.500000</td>\n",
              "      <td>3.207450</td>\n",
              "      <td>5.000000</td>\n",
              "      <td>330.000000</td>\n",
              "      <td>19.050000</td>\n",
              "      <td>21200.000000</td>\n",
              "    </tr>\n",
              "    <tr>\n",
              "      <th>75%</th>\n",
              "      <td>3.677083</td>\n",
              "      <td>12.500000</td>\n",
              "      <td>18.100000</td>\n",
              "      <td>0.000000</td>\n",
              "      <td>0.624000</td>\n",
              "      <td>6.623500</td>\n",
              "      <td>94.075000</td>\n",
              "      <td>5.188425</td>\n",
              "      <td>24.000000</td>\n",
              "      <td>666.000000</td>\n",
              "      <td>20.200000</td>\n",
              "      <td>25000.000000</td>\n",
              "    </tr>\n",
              "    <tr>\n",
              "      <th>max</th>\n",
              "      <td>88.976200</td>\n",
              "      <td>100.000000</td>\n",
              "      <td>27.740000</td>\n",
              "      <td>1.000000</td>\n",
              "      <td>0.871000</td>\n",
              "      <td>8.780000</td>\n",
              "      <td>100.000000</td>\n",
              "      <td>12.126500</td>\n",
              "      <td>24.000000</td>\n",
              "      <td>711.000000</td>\n",
              "      <td>22.000000</td>\n",
              "      <td>50000.000000</td>\n",
              "    </tr>\n",
              "  </tbody>\n",
              "</table>\n",
              "</div>\n",
              "      <button class=\"colab-df-convert\" onclick=\"convertToInteractive('df-02ff0909-9ae6-43d0-bb80-9925610c5b6c')\"\n",
              "              title=\"Convert this dataframe to an interactive table.\"\n",
              "              style=\"display:none;\">\n",
              "        \n",
              "  <svg xmlns=\"http://www.w3.org/2000/svg\" height=\"24px\"viewBox=\"0 0 24 24\"\n",
              "       width=\"24px\">\n",
              "    <path d=\"M0 0h24v24H0V0z\" fill=\"none\"/>\n",
              "    <path d=\"M18.56 5.44l.94 2.06.94-2.06 2.06-.94-2.06-.94-.94-2.06-.94 2.06-2.06.94zm-11 1L8.5 8.5l.94-2.06 2.06-.94-2.06-.94L8.5 2.5l-.94 2.06-2.06.94zm10 10l.94 2.06.94-2.06 2.06-.94-2.06-.94-.94-2.06-.94 2.06-2.06.94z\"/><path d=\"M17.41 7.96l-1.37-1.37c-.4-.4-.92-.59-1.43-.59-.52 0-1.04.2-1.43.59L10.3 9.45l-7.72 7.72c-.78.78-.78 2.05 0 2.83L4 21.41c.39.39.9.59 1.41.59.51 0 1.02-.2 1.41-.59l7.78-7.78 2.81-2.81c.8-.78.8-2.07 0-2.86zM5.41 20L4 18.59l7.72-7.72 1.47 1.35L5.41 20z\"/>\n",
              "  </svg>\n",
              "      </button>\n",
              "      \n",
              "  <style>\n",
              "    .colab-df-container {\n",
              "      display:flex;\n",
              "      flex-wrap:wrap;\n",
              "      gap: 12px;\n",
              "    }\n",
              "\n",
              "    .colab-df-convert {\n",
              "      background-color: #E8F0FE;\n",
              "      border: none;\n",
              "      border-radius: 50%;\n",
              "      cursor: pointer;\n",
              "      display: none;\n",
              "      fill: #1967D2;\n",
              "      height: 32px;\n",
              "      padding: 0 0 0 0;\n",
              "      width: 32px;\n",
              "    }\n",
              "\n",
              "    .colab-df-convert:hover {\n",
              "      background-color: #E2EBFA;\n",
              "      box-shadow: 0px 1px 2px rgba(60, 64, 67, 0.3), 0px 1px 3px 1px rgba(60, 64, 67, 0.15);\n",
              "      fill: #174EA6;\n",
              "    }\n",
              "\n",
              "    [theme=dark] .colab-df-convert {\n",
              "      background-color: #3B4455;\n",
              "      fill: #D2E3FC;\n",
              "    }\n",
              "\n",
              "    [theme=dark] .colab-df-convert:hover {\n",
              "      background-color: #434B5C;\n",
              "      box-shadow: 0px 1px 3px 1px rgba(0, 0, 0, 0.15);\n",
              "      filter: drop-shadow(0px 1px 2px rgba(0, 0, 0, 0.3));\n",
              "      fill: #FFFFFF;\n",
              "    }\n",
              "  </style>\n",
              "\n",
              "      <script>\n",
              "        const buttonEl =\n",
              "          document.querySelector('#df-02ff0909-9ae6-43d0-bb80-9925610c5b6c button.colab-df-convert');\n",
              "        buttonEl.style.display =\n",
              "          google.colab.kernel.accessAllowed ? 'block' : 'none';\n",
              "\n",
              "        async function convertToInteractive(key) {\n",
              "          const element = document.querySelector('#df-02ff0909-9ae6-43d0-bb80-9925610c5b6c');\n",
              "          const dataTable =\n",
              "            await google.colab.kernel.invokeFunction('convertToInteractive',\n",
              "                                                     [key], {});\n",
              "          if (!dataTable) return;\n",
              "\n",
              "          const docLinkHtml = 'Like what you see? Visit the ' +\n",
              "            '<a target=\"_blank\" href=https://colab.research.google.com/notebooks/data_table.ipynb>data table notebook</a>'\n",
              "            + ' to learn more about interactive tables.';\n",
              "          element.innerHTML = '';\n",
              "          dataTable['output_type'] = 'display_data';\n",
              "          await google.colab.output.renderOutput(dataTable, element);\n",
              "          const docLink = document.createElement('div');\n",
              "          docLink.innerHTML = docLinkHtml;\n",
              "          element.appendChild(docLink);\n",
              "        }\n",
              "      </script>\n",
              "    </div>\n",
              "  </div>\n",
              "  "
            ]
          },
          "metadata": {},
          "execution_count": 110
        }
      ]
    },
    {
      "cell_type": "code",
      "source": [
        "office_percent = 11.136779"
      ],
      "metadata": {
        "id": "Shdp7f-ek5Xj"
      },
      "execution_count": 111,
      "outputs": []
    },
    {
      "cell_type": "code",
      "source": [
        "price1 = regressor.predict([[crime_rate, office_percent]])"
      ],
      "metadata": {
        "id": "mb__2VCuq985"
      },
      "execution_count": 112,
      "outputs": []
    },
    {
      "cell_type": "code",
      "source": [
        "print(\"House in an area with %d crime rate and %d percent office real estate cost about $%d\" % (crime_rate, office_percent, price1))"
      ],
      "metadata": {
        "colab": {
          "base_uri": "https://localhost:8080/"
        },
        "id": "ittc0kRIq94H",
        "outputId": "b839f288-539e-41f5-cbb9-03d61aa9d0b3"
      },
      "execution_count": 113,
      "outputs": [
        {
          "output_type": "stream",
          "name": "stdout",
          "text": [
            "House in an area with 3 crime rate and 11 percent office real estate cost about $64476\n"
          ]
        }
      ]
    },
    {
      "cell_type": "markdown",
      "source": [
        "### Third Data Split"
      ],
      "metadata": {
        "id": "TxG58lfWq9xm"
      }
    },
    {
      "cell_type": "code",
      "source": [
        "X2 = np.array(df[['student_teacher_ratio', 'avg_num_rooms', 'distance_to_city']])\n",
        "y2 = np.array(df['median_price'])"
      ],
      "metadata": {
        "id": "WrVffGyxqts3"
      },
      "execution_count": 114,
      "outputs": []
    },
    {
      "cell_type": "code",
      "source": [
        "X2_train,X2_test,y2_train,y2_test = train_test_split(X2,y2,test_size=0.3,random_state=0)"
      ],
      "metadata": {
        "id": "VA3Ny8P_qt3b"
      },
      "execution_count": 115,
      "outputs": []
    },
    {
      "cell_type": "code",
      "source": [
        "regressor2 = LinearRegression()"
      ],
      "metadata": {
        "id": "m5ZqaEaPq6nX"
      },
      "execution_count": 116,
      "outputs": []
    },
    {
      "cell_type": "code",
      "source": [
        "regressor2.fit(X2_train,y2_train)"
      ],
      "metadata": {
        "id": "IHsrqM0Gq8_5",
        "colab": {
          "base_uri": "https://localhost:8080/"
        },
        "outputId": "9791668d-fddc-431f-f25d-232f2e807357"
      },
      "execution_count": 117,
      "outputs": [
        {
          "output_type": "execute_result",
          "data": {
            "text/plain": [
              "LinearRegression()"
            ]
          },
          "metadata": {},
          "execution_count": 117
        }
      ]
    },
    {
      "cell_type": "code",
      "source": [
        "df.describe()"
      ],
      "metadata": {
        "id": "ao8PR3B2sg0d",
        "colab": {
          "base_uri": "https://localhost:8080/",
          "height": 300
        },
        "outputId": "716b3c53-dc86-4392-ec55-9b444c1c1f16"
      },
      "execution_count": 118,
      "outputs": [
        {
          "output_type": "execute_result",
          "data": {
            "text/plain": [
              "       crime_rate  big_lots_percent  office_percent  charles_river  \\\n",
              "count  506.000000        506.000000      506.000000     506.000000   \n",
              "mean     3.613524         11.363636       11.136779       0.069170   \n",
              "std      8.601545         23.322453        6.860353       0.253994   \n",
              "min      0.006320          0.000000        0.460000       0.000000   \n",
              "25%      0.082045          0.000000        5.190000       0.000000   \n",
              "50%      0.256510          0.000000        9.690000       0.000000   \n",
              "75%      3.677083         12.500000       18.100000       0.000000   \n",
              "max     88.976200        100.000000       27.740000       1.000000   \n",
              "\n",
              "          nitrous  avg_num_rooms    pre_1940  distance_to_city  \\\n",
              "count  506.000000     506.000000  506.000000        506.000000   \n",
              "mean     0.554695       6.284634   68.574901          3.795043   \n",
              "std      0.115878       0.702617   28.148861          2.105710   \n",
              "min      0.385000       3.561000    2.900000          1.129600   \n",
              "25%      0.449000       5.885500   45.025000          2.100175   \n",
              "50%      0.538000       6.208500   77.500000          3.207450   \n",
              "75%      0.624000       6.623500   94.075000          5.188425   \n",
              "max      0.871000       8.780000  100.000000         12.126500   \n",
              "\n",
              "       highway_access    tax_rate  student_teacher_ratio  median_price  \n",
              "count      506.000000  506.000000             506.000000    506.000000  \n",
              "mean         9.549407  408.237154              18.455534  22532.806324  \n",
              "std          8.707259  168.537116               2.164946   9197.104087  \n",
              "min          1.000000  187.000000              12.600000   5000.000000  \n",
              "25%          4.000000  279.000000              17.400000  17025.000000  \n",
              "50%          5.000000  330.000000              19.050000  21200.000000  \n",
              "75%         24.000000  666.000000              20.200000  25000.000000  \n",
              "max         24.000000  711.000000              22.000000  50000.000000  "
            ],
            "text/html": [
              "\n",
              "  <div id=\"df-d86e3d34-9141-4a5d-89b4-38dc105cdaea\">\n",
              "    <div class=\"colab-df-container\">\n",
              "      <div>\n",
              "<style scoped>\n",
              "    .dataframe tbody tr th:only-of-type {\n",
              "        vertical-align: middle;\n",
              "    }\n",
              "\n",
              "    .dataframe tbody tr th {\n",
              "        vertical-align: top;\n",
              "    }\n",
              "\n",
              "    .dataframe thead th {\n",
              "        text-align: right;\n",
              "    }\n",
              "</style>\n",
              "<table border=\"1\" class=\"dataframe\">\n",
              "  <thead>\n",
              "    <tr style=\"text-align: right;\">\n",
              "      <th></th>\n",
              "      <th>crime_rate</th>\n",
              "      <th>big_lots_percent</th>\n",
              "      <th>office_percent</th>\n",
              "      <th>charles_river</th>\n",
              "      <th>nitrous</th>\n",
              "      <th>avg_num_rooms</th>\n",
              "      <th>pre_1940</th>\n",
              "      <th>distance_to_city</th>\n",
              "      <th>highway_access</th>\n",
              "      <th>tax_rate</th>\n",
              "      <th>student_teacher_ratio</th>\n",
              "      <th>median_price</th>\n",
              "    </tr>\n",
              "  </thead>\n",
              "  <tbody>\n",
              "    <tr>\n",
              "      <th>count</th>\n",
              "      <td>506.000000</td>\n",
              "      <td>506.000000</td>\n",
              "      <td>506.000000</td>\n",
              "      <td>506.000000</td>\n",
              "      <td>506.000000</td>\n",
              "      <td>506.000000</td>\n",
              "      <td>506.000000</td>\n",
              "      <td>506.000000</td>\n",
              "      <td>506.000000</td>\n",
              "      <td>506.000000</td>\n",
              "      <td>506.000000</td>\n",
              "      <td>506.000000</td>\n",
              "    </tr>\n",
              "    <tr>\n",
              "      <th>mean</th>\n",
              "      <td>3.613524</td>\n",
              "      <td>11.363636</td>\n",
              "      <td>11.136779</td>\n",
              "      <td>0.069170</td>\n",
              "      <td>0.554695</td>\n",
              "      <td>6.284634</td>\n",
              "      <td>68.574901</td>\n",
              "      <td>3.795043</td>\n",
              "      <td>9.549407</td>\n",
              "      <td>408.237154</td>\n",
              "      <td>18.455534</td>\n",
              "      <td>22532.806324</td>\n",
              "    </tr>\n",
              "    <tr>\n",
              "      <th>std</th>\n",
              "      <td>8.601545</td>\n",
              "      <td>23.322453</td>\n",
              "      <td>6.860353</td>\n",
              "      <td>0.253994</td>\n",
              "      <td>0.115878</td>\n",
              "      <td>0.702617</td>\n",
              "      <td>28.148861</td>\n",
              "      <td>2.105710</td>\n",
              "      <td>8.707259</td>\n",
              "      <td>168.537116</td>\n",
              "      <td>2.164946</td>\n",
              "      <td>9197.104087</td>\n",
              "    </tr>\n",
              "    <tr>\n",
              "      <th>min</th>\n",
              "      <td>0.006320</td>\n",
              "      <td>0.000000</td>\n",
              "      <td>0.460000</td>\n",
              "      <td>0.000000</td>\n",
              "      <td>0.385000</td>\n",
              "      <td>3.561000</td>\n",
              "      <td>2.900000</td>\n",
              "      <td>1.129600</td>\n",
              "      <td>1.000000</td>\n",
              "      <td>187.000000</td>\n",
              "      <td>12.600000</td>\n",
              "      <td>5000.000000</td>\n",
              "    </tr>\n",
              "    <tr>\n",
              "      <th>25%</th>\n",
              "      <td>0.082045</td>\n",
              "      <td>0.000000</td>\n",
              "      <td>5.190000</td>\n",
              "      <td>0.000000</td>\n",
              "      <td>0.449000</td>\n",
              "      <td>5.885500</td>\n",
              "      <td>45.025000</td>\n",
              "      <td>2.100175</td>\n",
              "      <td>4.000000</td>\n",
              "      <td>279.000000</td>\n",
              "      <td>17.400000</td>\n",
              "      <td>17025.000000</td>\n",
              "    </tr>\n",
              "    <tr>\n",
              "      <th>50%</th>\n",
              "      <td>0.256510</td>\n",
              "      <td>0.000000</td>\n",
              "      <td>9.690000</td>\n",
              "      <td>0.000000</td>\n",
              "      <td>0.538000</td>\n",
              "      <td>6.208500</td>\n",
              "      <td>77.500000</td>\n",
              "      <td>3.207450</td>\n",
              "      <td>5.000000</td>\n",
              "      <td>330.000000</td>\n",
              "      <td>19.050000</td>\n",
              "      <td>21200.000000</td>\n",
              "    </tr>\n",
              "    <tr>\n",
              "      <th>75%</th>\n",
              "      <td>3.677083</td>\n",
              "      <td>12.500000</td>\n",
              "      <td>18.100000</td>\n",
              "      <td>0.000000</td>\n",
              "      <td>0.624000</td>\n",
              "      <td>6.623500</td>\n",
              "      <td>94.075000</td>\n",
              "      <td>5.188425</td>\n",
              "      <td>24.000000</td>\n",
              "      <td>666.000000</td>\n",
              "      <td>20.200000</td>\n",
              "      <td>25000.000000</td>\n",
              "    </tr>\n",
              "    <tr>\n",
              "      <th>max</th>\n",
              "      <td>88.976200</td>\n",
              "      <td>100.000000</td>\n",
              "      <td>27.740000</td>\n",
              "      <td>1.000000</td>\n",
              "      <td>0.871000</td>\n",
              "      <td>8.780000</td>\n",
              "      <td>100.000000</td>\n",
              "      <td>12.126500</td>\n",
              "      <td>24.000000</td>\n",
              "      <td>711.000000</td>\n",
              "      <td>22.000000</td>\n",
              "      <td>50000.000000</td>\n",
              "    </tr>\n",
              "  </tbody>\n",
              "</table>\n",
              "</div>\n",
              "      <button class=\"colab-df-convert\" onclick=\"convertToInteractive('df-d86e3d34-9141-4a5d-89b4-38dc105cdaea')\"\n",
              "              title=\"Convert this dataframe to an interactive table.\"\n",
              "              style=\"display:none;\">\n",
              "        \n",
              "  <svg xmlns=\"http://www.w3.org/2000/svg\" height=\"24px\"viewBox=\"0 0 24 24\"\n",
              "       width=\"24px\">\n",
              "    <path d=\"M0 0h24v24H0V0z\" fill=\"none\"/>\n",
              "    <path d=\"M18.56 5.44l.94 2.06.94-2.06 2.06-.94-2.06-.94-.94-2.06-.94 2.06-2.06.94zm-11 1L8.5 8.5l.94-2.06 2.06-.94-2.06-.94L8.5 2.5l-.94 2.06-2.06.94zm10 10l.94 2.06.94-2.06 2.06-.94-2.06-.94-.94-2.06-.94 2.06-2.06.94z\"/><path d=\"M17.41 7.96l-1.37-1.37c-.4-.4-.92-.59-1.43-.59-.52 0-1.04.2-1.43.59L10.3 9.45l-7.72 7.72c-.78.78-.78 2.05 0 2.83L4 21.41c.39.39.9.59 1.41.59.51 0 1.02-.2 1.41-.59l7.78-7.78 2.81-2.81c.8-.78.8-2.07 0-2.86zM5.41 20L4 18.59l7.72-7.72 1.47 1.35L5.41 20z\"/>\n",
              "  </svg>\n",
              "      </button>\n",
              "      \n",
              "  <style>\n",
              "    .colab-df-container {\n",
              "      display:flex;\n",
              "      flex-wrap:wrap;\n",
              "      gap: 12px;\n",
              "    }\n",
              "\n",
              "    .colab-df-convert {\n",
              "      background-color: #E8F0FE;\n",
              "      border: none;\n",
              "      border-radius: 50%;\n",
              "      cursor: pointer;\n",
              "      display: none;\n",
              "      fill: #1967D2;\n",
              "      height: 32px;\n",
              "      padding: 0 0 0 0;\n",
              "      width: 32px;\n",
              "    }\n",
              "\n",
              "    .colab-df-convert:hover {\n",
              "      background-color: #E2EBFA;\n",
              "      box-shadow: 0px 1px 2px rgba(60, 64, 67, 0.3), 0px 1px 3px 1px rgba(60, 64, 67, 0.15);\n",
              "      fill: #174EA6;\n",
              "    }\n",
              "\n",
              "    [theme=dark] .colab-df-convert {\n",
              "      background-color: #3B4455;\n",
              "      fill: #D2E3FC;\n",
              "    }\n",
              "\n",
              "    [theme=dark] .colab-df-convert:hover {\n",
              "      background-color: #434B5C;\n",
              "      box-shadow: 0px 1px 3px 1px rgba(0, 0, 0, 0.15);\n",
              "      filter: drop-shadow(0px 1px 2px rgba(0, 0, 0, 0.3));\n",
              "      fill: #FFFFFF;\n",
              "    }\n",
              "  </style>\n",
              "\n",
              "      <script>\n",
              "        const buttonEl =\n",
              "          document.querySelector('#df-d86e3d34-9141-4a5d-89b4-38dc105cdaea button.colab-df-convert');\n",
              "        buttonEl.style.display =\n",
              "          google.colab.kernel.accessAllowed ? 'block' : 'none';\n",
              "\n",
              "        async function convertToInteractive(key) {\n",
              "          const element = document.querySelector('#df-d86e3d34-9141-4a5d-89b4-38dc105cdaea');\n",
              "          const dataTable =\n",
              "            await google.colab.kernel.invokeFunction('convertToInteractive',\n",
              "                                                     [key], {});\n",
              "          if (!dataTable) return;\n",
              "\n",
              "          const docLinkHtml = 'Like what you see? Visit the ' +\n",
              "            '<a target=\"_blank\" href=https://colab.research.google.com/notebooks/data_table.ipynb>data table notebook</a>'\n",
              "            + ' to learn more about interactive tables.';\n",
              "          element.innerHTML = '';\n",
              "          dataTable['output_type'] = 'display_data';\n",
              "          await google.colab.output.renderOutput(dataTable, element);\n",
              "          const docLink = document.createElement('div');\n",
              "          docLink.innerHTML = docLinkHtml;\n",
              "          element.appendChild(docLink);\n",
              "        }\n",
              "      </script>\n",
              "    </div>\n",
              "  </div>\n",
              "  "
            ]
          },
          "metadata": {},
          "execution_count": 118
        }
      ]
    },
    {
      "cell_type": "code",
      "source": [
        "student_teacher_ratio = 18.455534\n",
        "distance_to_city = 3.795043"
      ],
      "metadata": {
        "id": "7nsW1IVvspb8"
      },
      "execution_count": 119,
      "outputs": []
    },
    {
      "cell_type": "code",
      "source": [
        "price2 = regressor2.predict([[student_teacher_ratio, room_num, distance_to_city]])"
      ],
      "metadata": {
        "id": "RY1UaZfFq-t5"
      },
      "execution_count": 120,
      "outputs": []
    },
    {
      "cell_type": "code",
      "source": [
        "print(\"House in an area with %d student teacher ratio, %d bedrooms, and %d distance to a city cost about $%d\" % (student_teacher_ratio, room_num, distance_to_city, price2))"
      ],
      "metadata": {
        "id": "9rEK9-Hbq-pq",
        "colab": {
          "base_uri": "https://localhost:8080/"
        },
        "outputId": "a2907072-251c-4502-e123-3b4b96e0a9ae"
      },
      "execution_count": 121,
      "outputs": [
        {
          "output_type": "stream",
          "name": "stdout",
          "text": [
            "House in an area with 18 student teacher ratio, 6 bedrooms, and 3 distance to a city cost about $22605\n"
          ]
        }
      ]
    },
    {
      "cell_type": "markdown",
      "source": [
        "### Conclusions"
      ],
      "metadata": {
        "id": "VsGTV8oRpP8-"
      }
    },
    {
      "cell_type": "code",
      "source": [
        "sns.distplot(df['median_price'])"
      ],
      "metadata": {
        "id": "xXDK2dP7pV63",
        "colab": {
          "base_uri": "https://localhost:8080/",
          "height": 383
        },
        "outputId": "91d3d404-ba6c-4f70-eba6-9eb31cd7bdca"
      },
      "execution_count": 122,
      "outputs": [
        {
          "output_type": "stream",
          "name": "stderr",
          "text": [
            "/usr/local/lib/python3.7/dist-packages/seaborn/distributions.py:2619: FutureWarning:\n",
            "\n",
            "`distplot` is a deprecated function and will be removed in a future version. Please adapt your code to use either `displot` (a figure-level function with similar flexibility) or `histplot` (an axes-level function for histograms).\n",
            "\n"
          ]
        },
        {
          "output_type": "execute_result",
          "data": {
            "text/plain": [
              "<matplotlib.axes._subplots.AxesSubplot at 0x7f9ebae00cd0>"
            ]
          },
          "metadata": {},
          "execution_count": 122
        },
        {
          "output_type": "display_data",
          "data": {
            "text/plain": [
              "<Figure size 432x288 with 1 Axes>"
            ],
            "image/png": "[encoded data removed]"
          },
          "metadata": {}
        }
      ]
    },
    {
      "cell_type": "markdown",
      "source": [
        "( We all came up with one conclusion and combined it together)\n",
        "\n",
        "In conclusion crime rate alongside the average number of rooms was the best predictors of home values. We believe that the spread of office_percent values made it difficult for the model to predict accurate home values. A possible solution for this is to use a KNN logistic regression. Overall, the first and third data split provided precise price estimates given the dataset."
      ],
      "metadata": {
        "id": "WfvEuvjimON4"
      }
    }
  ]
}